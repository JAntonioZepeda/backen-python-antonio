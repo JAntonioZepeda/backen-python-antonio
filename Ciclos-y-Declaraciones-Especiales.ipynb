{
 "cells": [
  {
   "cell_type": "code",
   "execution_count": 32,
   "id": "b84530f7",
   "metadata": {},
   "outputs": [
    {
     "name": "stdout",
     "output_type": "stream",
     "text": [
      "stop1\n",
      "stop0\n"
     ]
    }
   ],
   "source": [
    "import time\n",
    "def countdown(time_sec):\n",
    "    while time_sec:\n",
    "        mins, secs = divmod(time_sec,60)\n",
    "        timeformat = '{:02d}:{:02d}'.format(mins,secs)\n",
    "        print(timeformat, end='\\r')\n",
    "        time.sleep(1)\n",
    "        time_sec -=1\n",
    "    print(\"stop\")\n",
    "\n",
    "countdown(60)\n",
    "\n",
    "def countup(time_sec):\n",
    "    segundos_totales=0\n",
    "    while segundos_totales <= time_sec:\n",
    "        mins, secs = divmod(segundos_totales,60)\n",
    "        timeformat = '{:02d}:{:02d}'.format(mins,secs)\n",
    "        print(timeformat, end='\\r')\n",
    "        time.sleep(1)\n",
    "        segundos_totales +=1\n",
    "    print(\"stop\")\n",
    "\n",
    "countup(60)"
   ]
  },
  {
   "cell_type": "code",
   "execution_count": null,
   "id": "2f69cd2f",
   "metadata": {},
   "outputs": [],
   "source": [
    "\n",
    "    \n",
    "    "
   ]
  },
  {
   "cell_type": "code",
   "execution_count": null,
   "id": "53a1a7d4",
   "metadata": {},
   "outputs": [],
   "source": []
  }
 ],
 "metadata": {
  "kernelspec": {
   "display_name": "Python 3 (ipykernel)",
   "language": "python",
   "name": "python3"
  },
  "language_info": {
   "codemirror_mode": {
    "name": "ipython",
    "version": 3
   },
   "file_extension": ".py",
   "mimetype": "text/x-python",
   "name": "python",
   "nbconvert_exporter": "python",
   "pygments_lexer": "ipython3",
   "version": "3.11.5"
  }
 },
 "nbformat": 4,
 "nbformat_minor": 5
}
