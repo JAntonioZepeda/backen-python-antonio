{
 "cells": [
  {
   "cell_type": "markdown",
   "id": "f998155f",
   "metadata": {},
   "source": [
    "# Diferentes formas de crear diccionarios"
   ]
  },
  {
   "cell_type": "code",
   "execution_count": 1,
   "id": "5a300d90",
   "metadata": {},
   "outputs": [
    {
     "name": "stdout",
     "output_type": "stream",
     "text": [
      "{}\n",
      "<class 'dict'>\n"
     ]
    }
   ],
   "source": [
    "my_dict={}\n",
    "print(my_dict)\n",
    "print(type(my_dict))"
   ]
  },
  {
   "cell_type": "code",
   "execution_count": 2,
   "id": "c13c3549",
   "metadata": {},
   "outputs": [
    {
     "name": "stdout",
     "output_type": "stream",
     "text": [
      "{}\n",
      "<class 'dict'>\n"
     ]
    }
   ],
   "source": [
    "ny_dict=dict()\n",
    "print(my_dict)\n",
    "print(type(my_dict))"
   ]
  },
  {
   "cell_type": "code",
   "execution_count": 3,
   "id": "7d2e0aa5",
   "metadata": {},
   "outputs": [
    {
     "name": "stdout",
     "output_type": "stream",
     "text": [
      "{1: 'Uno', 2: 'dos', 3: 'tres', 4: 'Cuatro', 5: 'Sinco'}\n",
      "<class 'dict'>\n"
     ]
    }
   ],
   "source": [
    "# representado el diccionario como tal\n",
    "my_dict={\n",
    "    1:\"Uno\",\n",
    "    2:\"dos\",\n",
    "    3:\"tres\",\n",
    "    4:\"Cuatro\",\n",
    "    5: \"Sinco\"\n",
    "}\n",
    "print(my_dict)\n",
    "print(type(my_dict))"
   ]
  },
  {
   "cell_type": "code",
   "execution_count": 8,
   "id": "9fe3e389",
   "metadata": {},
   "outputs": [
    {
     "name": "stdout",
     "output_type": "stream",
     "text": [
      "<class 'dict'>\n",
      "{'Uno': 1, 'Dos': 2, 'Tres': 3, 'Cuatro': 4, 'Cinco': 5}\n"
     ]
    }
   ],
   "source": [
    "# usando con tus llaves con valores\n",
    "my_dict=dict(Uno=1,Dos=2,Tres=3,Cuatro=4,Cinco=5)\n",
    "print(type(my_dict))\n",
    "print(my_dict)\n"
   ]
  },
  {
   "cell_type": "code",
   "execution_count": null,
   "id": "a2e3eb66",
   "metadata": {},
   "outputs": [],
   "source": []
  },
  {
   "cell_type": "code",
   "execution_count": 11,
   "id": "085422d3",
   "metadata": {},
   "outputs": [
    {
     "name": "stdout",
     "output_type": "stream",
     "text": [
      "{1: 'Uno', 2: 'dos', 3: 'tres', 4: 'cuatro', 5: 'cinco'}\n",
      "<class 'dict'>\n"
     ]
    }
   ],
   "source": [
    "#Usando una lista de tuplas\n",
    "my_dict=dict(\n",
    "[\n",
    "    (1, \"Uno\"),\n",
    "    (2, \"dos\"),\n",
    "    (3, \"tres\"),\n",
    "    (4,\"cuatro\"),\n",
    "    (5,\"cinco\"),\n",
    "    \n",
    "]\n",
    ")\n",
    "print(my_dict)\n",
    "print(type(my_dict))"
   ]
  },
  {
   "cell_type": "markdown",
   "id": "e2579ed7",
   "metadata": {},
   "source": [
    "### Método Update"
   ]
  },
  {
   "cell_type": "code",
   "execution_count": 12,
   "id": "b1b892d2",
   "metadata": {},
   "outputs": [
    {
     "name": "stdout",
     "output_type": "stream",
     "text": [
      "{1: 'Uno', 2: 'dos', 3: 'tres', 4: 'cuatro', 5: 'cinco'}\n",
      "<class 'dict'>\n",
      "{6: 'Seis', 7: 'Siete', 8: 'Ocho', 9: 'Nueve'}\n",
      "<class 'dict'>\n",
      "{1: 'Uno', 2: 'dos', 3: 'tres', 4: 'cuatro', 5: 'cinco', 6: 'Seis', 7: 'Siete', 8: 'Ocho', 9: 'Nueve'}\n",
      "<class 'dict'>\n"
     ]
    }
   ],
   "source": [
    "my_dict=dict(\n",
    "[\n",
    "    (1, \"Uno\"),\n",
    "    (2, \"dos\"),\n",
    "    (3, \"tres\"),\n",
    "    (4,\"cuatro\"),\n",
    "    (5,\"cinco\"),    \n",
    "]\n",
    ")\n",
    "my_dict_2=dict(\n",
    "[\n",
    "    (6, \"Seis\"),\n",
    "    (7, \"Siete\"),\n",
    "    (8, \"Ocho\"),\n",
    "    (9, \"Nueve\"),\n",
    "    \n",
    "]\n",
    ")\n",
    "\n",
    "print(my_dict)\n",
    "print(type(my_dict))\n",
    "print(my_dict_2)\n",
    "print(type(my_dict_2))\n",
    "\n",
    "my_dict.update(my_dict_2)\n",
    "\n",
    "print(my_dict)\n",
    "print(type(my_dict))\n",
    "\n"
   ]
  },
  {
   "cell_type": "code",
   "execution_count": 13,
   "id": "aeb92629",
   "metadata": {},
   "outputs": [
    {
     "name": "stdout",
     "output_type": "stream",
     "text": [
      "{1: 'Uno', 2: 'dos', 3: 'tres', 4: 'cuatro', 5: 'cinco'}\n",
      "<class 'dict'>\n",
      "{1: 'UNO', 3: 'TRES', 4: 'CUATRO'}\n",
      "<class 'dict'>\n",
      "{1: 'UNO', 2: 'dos', 3: 'TRES', 4: 'CUATRO', 5: 'cinco'}\n",
      "<class 'dict'>\n"
     ]
    }
   ],
   "source": [
    "my_dict=dict(\n",
    "[\n",
    "    (1, \"Uno\"),\n",
    "    (2, \"dos\"),\n",
    "    (3, \"tres\"),\n",
    "    (4,\"cuatro\"),\n",
    "    (5,\"cinco\"),    \n",
    "]\n",
    ")\n",
    "my_dict_2=dict(\n",
    "[\n",
    "    (1, \"UNO\"),\n",
    "    (3, \"TRES\"),\n",
    "    (4, \"CUATRO\"),\n",
    "    \n",
    "]\n",
    ")\n",
    "\n",
    "print(my_dict)\n",
    "print(type(my_dict))\n",
    "print(my_dict_2)\n",
    "print(type(my_dict_2))\n",
    "\n",
    "my_dict.update(my_dict_2)\n",
    "\n",
    "print(my_dict)\n",
    "print(type(my_dict))"
   ]
  },
  {
   "cell_type": "markdown",
   "id": "e06300f0",
   "metadata": {},
   "source": [
    "## Copy & Alias"
   ]
  },
  {
   "cell_type": "code",
   "execution_count": 3,
   "id": "d198fbef",
   "metadata": {},
   "outputs": [],
   "source": [
    "laptops ={\"HP\": 11999.0,\n",
    "         \"Aplle\": 24999.0,\n",
    "         \"Acer\": 12012.03,\n",
    "         \"Lenovo\": 17299.0,\n",
    "         \"Dell\": 15524.87}\n",
    "alias= laptops # esto no es recomendado\n",
    "copy=laptops.copy()# Esto es siempre recomendable\n",
    "\n"
   ]
  },
  {
   "cell_type": "code",
   "execution_count": 2,
   "id": "37259b9b",
   "metadata": {},
   "outputs": [
    {
     "name": "stdout",
     "output_type": "stream",
     "text": [
      "{'HP': 11999.0, 'Aplle': 24999.0, 'Acer': 12012.03, 'Lenovo': 17299.0, 'Dell': 15524.87}\n",
      "{'HP': 9999.0, 'Aplle': 24999.0, 'Acer': 12012.03, 'Lenovo': 17299.0, 'Dell': 15524.87}\n",
      "{'HP': 9999.0, 'Aplle': 24999.0, 'Acer': 12012.03, 'Lenovo': 17299.0, 'Dell': 15524.87}\n"
     ]
    }
   ],
   "source": [
    "# usar un alias va afectar al diccionario original\n",
    "print(alias)\n",
    "alias[\"HP\"]=9999.0\n",
    "print(alias)\n",
    "print(laptops)"
   ]
  },
  {
   "cell_type": "code",
   "execution_count": 4,
   "id": "7816b79d",
   "metadata": {},
   "outputs": [
    {
     "name": "stdout",
     "output_type": "stream",
     "text": [
      "{'HP': 11999.0, 'Aplle': 24999.0, 'Acer': 12012.03, 'Lenovo': 17299.0, 'Dell': 15524.87}\n",
      "{'HP': 9999.0, 'Aplle': 24999.0, 'Acer': 12012.03, 'Lenovo': 17299.0, 'Dell': 15524.87}\n",
      "{'HP': 11999.0, 'Aplle': 24999.0, 'Acer': 12012.03, 'Lenovo': 17299.0, 'Dell': 15524.87}\n"
     ]
    }
   ],
   "source": [
    "# usar copy es lo forma correcta, ya que mantiene los valores del diccionario original\n",
    "print(copy)\n",
    "copy[\"HP\"]=9999.0\n",
    "print(copy)\n",
    "print(laptops)"
   ]
  },
  {
   "cell_type": "markdown",
   "id": "4710618b",
   "metadata": {},
   "source": [
    "## Obtener las keys/llaves y values/valores por separado"
   ]
  },
  {
   "cell_type": "code",
   "execution_count": 5,
   "id": "6b70c573",
   "metadata": {},
   "outputs": [],
   "source": [
    "laptops ={\"HP\": 11999.0,\n",
    "         \"Aplle\": 24999.0,\n",
    "         \"Acer\": 12012.03,\n",
    "         \"Lenovo\": 17299.0,\n",
    "         \"Dell\": 15524.87}"
   ]
  },
  {
   "cell_type": "markdown",
   "id": "c17cce3d",
   "metadata": {},
   "source": [
    "### Keys"
   ]
  },
  {
   "cell_type": "markdown",
   "id": "29787c1d",
   "metadata": {},
   "source": [
    "print(laptops.keys())"
   ]
  },
  {
   "cell_type": "raw",
   "id": "a21cea3c",
   "metadata": {},
   "source": [
    "for key in laptops.keys():\n",
    "    print(\"Para la llave '{}' el valor es {}\".format(key,laptops[key]))"
   ]
  },
  {
   "cell_type": "markdown",
   "id": "1466c21b",
   "metadata": {},
   "source": [
    "### Values"
   ]
  },
  {
   "cell_type": "code",
   "execution_count": 8,
   "id": "81cfd032",
   "metadata": {},
   "outputs": [
    {
     "name": "stdout",
     "output_type": "stream",
     "text": [
      "dict_values([11999.0, 24999.0, 12012.03, 17299.0, 15524.87])\n"
     ]
    }
   ],
   "source": [
    "print(laptops.values())"
   ]
  },
  {
   "cell_type": "code",
   "execution_count": 9,
   "id": "4d48cbf2",
   "metadata": {},
   "outputs": [
    {
     "name": "stdout",
     "output_type": "stream",
     "text": [
      "El valor es 11999.0\n",
      "El valor es 24999.0\n",
      "El valor es 12012.03\n",
      "El valor es 17299.0\n",
      "El valor es 15524.87\n"
     ]
    }
   ],
   "source": [
    "for value in laptops.values():\n",
    "    print(\"El valor es {}\".format(value))"
   ]
  },
  {
   "cell_type": "code",
   "execution_count": 13,
   "id": "f99b157b",
   "metadata": {},
   "outputs": [
    {
     "name": "stdout",
     "output_type": "stream",
     "text": [
      "Para la llave 'HP' el valor es 11999.0\n",
      "Para la llave 'Aplle' el valor es 24999.0\n",
      "Para la llave 'Acer' el valor es 12012.03\n",
      "Para la llave 'Lenovo' el valor es 17299.0\n",
      "Para la llave 'Dell' el valor es 15524.87\n"
     ]
    }
   ],
   "source": [
    "def get_key(d,val):\n",
    "    keys=[k for k, v in d.items() if v==val]\n",
    "    if keys:\n",
    "        return keys[0]\n",
    "    return None\n",
    "\n",
    "for value in laptops.values():\n",
    "    print(\"Para la llave '{}' el valor es {}\".format(get_key(laptops,value), value))"
   ]
  },
  {
   "cell_type": "markdown",
   "id": "f212f72b",
   "metadata": {},
   "source": [
    "## Obteniendo las keys y values al mismo tiempo"
   ]
  },
  {
   "cell_type": "markdown",
   "id": "e8c06158",
   "metadata": {},
   "source": [
    " ### items"
   ]
  },
  {
   "cell_type": "code",
   "execution_count": 15,
   "id": "3cf0bcdd",
   "metadata": {},
   "outputs": [
    {
     "name": "stdout",
     "output_type": "stream",
     "text": [
      "Para la llave 'HP' el valor es 11999.0\n",
      "Para la llave 'Aplle' el valor es 24999.0\n",
      "Para la llave 'Acer' el valor es 12012.03\n",
      "Para la llave 'Lenovo' el valor es 17299.0\n",
      "Para la llave 'Dell' el valor es 15524.87\n"
     ]
    }
   ],
   "source": [
    "for key, value in laptops.items():\n",
    "    print(\"Para la llave '{}' el valor es {}\".format(key, value))"
   ]
  },
  {
   "cell_type": "markdown",
   "id": "ffeb2eec",
   "metadata": {},
   "source": [
    "## Métodos para manipulación de Diccionarios"
   ]
  },
  {
   "cell_type": "markdown",
   "id": "d6009fa4",
   "metadata": {},
   "source": [
    "### clear\n",
    "Para eliminar los elementos de un diccionario"
   ]
  },
  {
   "cell_type": "code",
   "execution_count": 16,
   "id": "929d0fd2",
   "metadata": {},
   "outputs": [
    {
     "name": "stdout",
     "output_type": "stream",
     "text": [
      "{'HP': 11999.0, 'Aplle': 24999.0, 'Acer': 12012.03, 'Lenovo': 17299.0, 'Dell': 15524.87}\n",
      "<class 'dict'>\n",
      "5\n",
      "{}\n",
      "<class 'dict'>\n",
      "0\n"
     ]
    }
   ],
   "source": [
    "laptops={\n",
    "   \"HP\": 11999.0,\n",
    "    \"Aplle\": 24999.0,\n",
    "    \"Acer\": 12012.03,\n",
    "    \"Lenovo\": 17299.0,\n",
    "    \"Dell\": 15524.87\n",
    "}\n",
    "print(laptops)\n",
    "print(type(laptops))\n",
    "print(len(laptops))\n",
    "\n",
    "laptops.clear()\n",
    "print(laptops)\n",
    "print(type(laptops))\n",
    "print(len(laptops))\n"
   ]
  },
  {
   "cell_type": "markdown",
   "id": "ae295f14",
   "metadata": {},
   "source": [
    "### copy\n",
    "Sirve para hacer una copia del diccionario"
   ]
  },
  {
   "cell_type": "code",
   "execution_count": 1,
   "id": "5f4cd6a5",
   "metadata": {},
   "outputs": [
    {
     "name": "stdout",
     "output_type": "stream",
     "text": [
      "{'HP': 11999.0, 'Aplle': 24999.0, 'Acer': 12012.03, 'Lenovo': 17299.0, 'Dell': 15524.87}\n",
      "<class 'dict'>\n",
      "5\n",
      "{'HP': 11999.0, 'Aplle': 24999.0, 'Acer': 12012.03, 'Lenovo': 17299.0, 'Dell': 15524.87}\n",
      "<class 'dict'>\n",
      "5\n",
      "{}\n",
      "<class 'dict'>\n",
      "0\n"
     ]
    }
   ],
   "source": [
    "laptops={\n",
    "   \"HP\": 11999.0,\n",
    "    \"Aplle\": 24999.0,\n",
    "    \"Acer\": 12012.03,\n",
    "    \"Lenovo\": 17299.0,\n",
    "    \"Dell\": 15524.87\n",
    "}\n",
    "print(laptops)\n",
    "print(type(laptops))\n",
    "print(len(laptops))\n",
    "\n",
    "copy= laptops.copy()\n",
    "copy.clear()\n",
    "\n",
    "print(laptops)\n",
    "print(type(laptops))\n",
    "print(len(laptops))\n",
    "\n",
    "print(copy)\n",
    "print(type(copy))\n",
    "print(len(copy))\n"
   ]
  },
  {
   "cell_type": "markdown",
   "id": "ea73e653",
   "metadata": {},
   "source": [
    "### fromkeys\n",
    "Sirve para construir un nuevo diccionario tomandó como referencia las key/llaves en un diccionario"
   ]
  },
  {
   "cell_type": "code",
   "execution_count": 21,
   "id": "214a9800",
   "metadata": {},
   "outputs": [
    {
     "name": "stdout",
     "output_type": "stream",
     "text": [
      "{'HP': 'Marca de laptop', 'Aplle': 'Marca de laptop', 'Acer': 'Marca de laptop', 'Lenovo': 'Marca de laptop', 'Dell': 'Marca de laptop'}\n"
     ]
    }
   ],
   "source": [
    "laptops={\n",
    "   \"HP\": 11999.0,\n",
    "    \"Aplle\": 24999.0,\n",
    "    \"Acer\": 12012.03,\n",
    "    \"Lenovo\": 17299.0,\n",
    "    \"Dell\": 15524.87\n",
    "}\n",
    "category=\"Marca de laptop\"\n",
    "new_dict=dict.fromkeys(laptops,category)\n",
    "print(new_dict)"
   ]
  },
  {
   "cell_type": "markdown",
   "id": "ec2c5de6",
   "metadata": {},
   "source": [
    "### get\n",
    "Sirve para obtener el valor de un diccionario de forma segura y con la accion de configurar un valor por default"
   ]
  },
  {
   "cell_type": "code",
   "execution_count": 22,
   "id": "910ca9e2",
   "metadata": {},
   "outputs": [
    {
     "name": "stdout",
     "output_type": "stream",
     "text": [
      "17299.0\n",
      "17299.0\n"
     ]
    }
   ],
   "source": [
    "laptops={\n",
    "   \"HP\": 11999.0,\n",
    "    \"Aplle\": 24999.0,\n",
    "    \"Acer\": 12012.03,\n",
    "    \"Lenovo\": 17299.0,\n",
    "    \"Dell\": 15524.87\n",
    "}\n",
    "print(laptops[\"Lenovo\"])\n",
    "print(laptops.get(\"Lenovo\"))"
   ]
  },
  {
   "cell_type": "code",
   "execution_count": 23,
   "id": "bb1bd059",
   "metadata": {},
   "outputs": [
    {
     "ename": "KeyError",
     "evalue": "'Asus'",
     "output_type": "error",
     "traceback": [
      "\u001b[1;31m---------------------------------------------------------------------------\u001b[0m",
      "\u001b[1;31mKeyError\u001b[0m                                  Traceback (most recent call last)",
      "Cell \u001b[1;32mIn[23], line 2\u001b[0m\n\u001b[0;32m      1\u001b[0m \u001b[38;5;66;03m# forma insegura de obtener un valor\u001b[39;00m\n\u001b[1;32m----> 2\u001b[0m \u001b[38;5;28mprint\u001b[39m(laptops[\u001b[38;5;124m\"\u001b[39m\u001b[38;5;124mAsus\u001b[39m\u001b[38;5;124m\"\u001b[39m])\n",
      "\u001b[1;31mKeyError\u001b[0m: 'Asus'"
     ]
    }
   ],
   "source": [
    "# forma insegura de obtener un valor\n",
    "print(laptops[\"Asus\"])"
   ]
  },
  {
   "cell_type": "code",
   "execution_count": 24,
   "id": "d6c97c6b",
   "metadata": {},
   "outputs": [
    {
     "name": "stdout",
     "output_type": "stream",
     "text": [
      "None\n"
     ]
    }
   ],
   "source": [
    "# forma segura de obtener un valor\n",
    "print(laptops.get(\"Asus\"))"
   ]
  },
  {
   "cell_type": "code",
   "execution_count": 25,
   "id": "243542de",
   "metadata": {},
   "outputs": [
    {
     "name": "stdout",
     "output_type": "stream",
     "text": [
      "0\n",
      "No disponible\n"
     ]
    }
   ],
   "source": [
    "# forma segura de obtener un valor y configurando el valor por default\n",
    "print(laptops.get(\"Asus\",0))\n",
    "print(laptops.get(\"Asus\",\"No disponible\"))"
   ]
  },
  {
   "cell_type": "code",
   "execution_count": 2,
   "id": "a3ce0d29",
   "metadata": {},
   "outputs": [
    {
     "name": "stdout",
     "output_type": "stream",
     "text": [
      "17299.0\n",
      "17299.0\n"
     ]
    }
   ],
   "source": [
    "# forma segura de obtener un valor y configurando el valor por default\n",
    "print(laptops.get(\"Lenovo\",0))\n",
    "print(laptops.get(\"Lenovo\",\"No disponible\"))"
   ]
  },
  {
   "cell_type": "markdown",
   "id": "9b30dca3",
   "metadata": {},
   "source": [
    "### items\n",
    "sirve para obtener cada llave y  en el diccionario de forma simultánea"
   ]
  },
  {
   "cell_type": "code",
   "execution_count": 4,
   "id": "d253c92a",
   "metadata": {},
   "outputs": [
    {
     "name": "stdout",
     "output_type": "stream",
     "text": [
      "Para la llave 'HP' el valor es 11999.0\n",
      "Para la llave 'Aplle' el valor es 24999.0\n",
      "Para la llave 'Acer' el valor es 12012.03\n",
      "Para la llave 'Lenovo' el valor es 17299.0\n",
      "Para la llave 'Dell' el valor es 15524.87\n"
     ]
    }
   ],
   "source": [
    "laptops={\n",
    "   \"HP\": 11999.0,\n",
    "    \"Aplle\": 24999.0,\n",
    "    \"Acer\": 12012.03,\n",
    "    \"Lenovo\": 17299.0,\n",
    "    \"Dell\": 15524.87\n",
    "}\n",
    "for key, value in laptops.items():\n",
    "    print(\"Para la llave '{}' el valor es {}\".format(key,value))"
   ]
  },
  {
   "cell_type": "markdown",
   "id": "d5116471",
   "metadata": {},
   "source": [
    "### Keys\n",
    "sirve para obtener las llaves de un diccionario"
   ]
  },
  {
   "cell_type": "code",
   "execution_count": 8,
   "id": "c45753e2",
   "metadata": {},
   "outputs": [
    {
     "name": "stdout",
     "output_type": "stream",
     "text": [
      "Una llave deldiccionario es 'HP':\n",
      "Una llave deldiccionario es 'Aplle':\n",
      "Una llave deldiccionario es 'Acer':\n",
      "Una llave deldiccionario es 'Lenovo':\n",
      "Una llave deldiccionario es 'Dell':\n"
     ]
    }
   ],
   "source": [
    "laptops={\n",
    "   \"HP\": 11999.0,\n",
    "    \"Aplle\": 24999.0,\n",
    "    \"Acer\": 12012.03,\n",
    "    \"Lenovo\": 17299.0,\n",
    "    \"Dell\": 15524.87\n",
    "}\n",
    "for key in laptops.keys():\n",
    "    print(\"Una llave deldiccionario es '{}':\".format(key))"
   ]
  },
  {
   "cell_type": "markdown",
   "id": "6c101c03",
   "metadata": {},
   "source": [
    "### pop\n",
    "Elimina la llave y valor de un diccionario pasando la llave como parámetro"
   ]
  },
  {
   "cell_type": "code",
   "execution_count": 10,
   "id": "4788a947",
   "metadata": {},
   "outputs": [
    {
     "name": "stdout",
     "output_type": "stream",
     "text": [
      "{'HP': 11999.0, 'Aplle': 24999.0, 'Acer': 12012.03, 'Lenovo': 17299.0, 'Dell': 15524.87}\n",
      "5\n",
      "{'HP': 11999.0, 'Aplle': 24999.0, 'Acer': 12012.03, 'Dell': 15524.87}\n",
      "4\n"
     ]
    }
   ],
   "source": [
    "laptops={\n",
    "   \"HP\": 11999.0,\n",
    "    \"Aplle\": 24999.0,\n",
    "    \"Acer\": 12012.03,\n",
    "    \"Lenovo\": 17299.0,\n",
    "    \"Dell\": 15524.87\n",
    "}\n",
    "print(laptops)\n",
    "print(len(laptops))\n",
    "\n",
    "laptops.pop(\"Lenovo\")\n",
    "print(laptops)\n",
    "print(len(laptops))"
   ]
  },
  {
   "cell_type": "code",
   "execution_count": 11,
   "id": "15995c6e",
   "metadata": {},
   "outputs": [
    {
     "ename": "KeyError",
     "evalue": "'Asus'",
     "output_type": "error",
     "traceback": [
      "\u001b[1;31m---------------------------------------------------------------------------\u001b[0m",
      "\u001b[1;31mKeyError\u001b[0m                                  Traceback (most recent call last)",
      "Cell \u001b[1;32mIn[11], line 1\u001b[0m\n\u001b[1;32m----> 1\u001b[0m laptops\u001b[38;5;241m.\u001b[39mpop(\u001b[38;5;124m\"\u001b[39m\u001b[38;5;124mAsus\u001b[39m\u001b[38;5;124m\"\u001b[39m)\n\u001b[0;32m      2\u001b[0m \u001b[38;5;28mprint\u001b[39m(laptops)\n\u001b[0;32m      3\u001b[0m \u001b[38;5;28mprint\u001b[39m(\u001b[38;5;28mlen\u001b[39m(laptops))\n",
      "\u001b[1;31mKeyError\u001b[0m: 'Asus'"
     ]
    }
   ],
   "source": [
    "laptops.pop(\"Asus\")\n",
    "print(laptops)\n",
    "print(len(laptops))"
   ]
  },
  {
   "cell_type": "code",
   "execution_count": 13,
   "id": "4cdad9e1",
   "metadata": {},
   "outputs": [
    {
     "name": "stdout",
     "output_type": "stream",
     "text": [
      "{'HP': 11999.0, 'Aplle': 24999.0, 'Acer': 12012.03, 'Dell': 15524.87}\n",
      "4\n",
      "La llave Asus no esta en el diccionario\n"
     ]
    }
   ],
   "source": [
    "print(laptops)\n",
    "print(len(laptops))\n",
    "if \"Assus\" in laptops.keys():\n",
    "    laptops.pop(\"Asus\", \"No existe\")\n",
    "    print(laptops)\n",
    "    print(len(laptops))\n",
    "else:\n",
    "    print(\"La llave Asus no esta en el diccionario\")\n",
    "        "
   ]
  },
  {
   "cell_type": "markdown",
   "id": "1697ce16",
   "metadata": {},
   "source": [
    "###  popitems\n",
    "Elimina el indice -1(el ultimo elemento llave-valor)"
   ]
  },
  {
   "cell_type": "code",
   "execution_count": 15,
   "id": "e7dbacca",
   "metadata": {},
   "outputs": [
    {
     "name": "stdout",
     "output_type": "stream",
     "text": [
      "{'HP': 11999.0, 'Aplle': 24999.0, 'Acer': 12012.03, 'Lenovo': 17299.0, 'Dell': 15524.87}\n",
      "5\n",
      "{'HP': 11999.0, 'Aplle': 24999.0, 'Acer': 12012.03, 'Lenovo': 17299.0}\n",
      "4\n",
      "{'HP': 11999.0, 'Aplle': 24999.0, 'Acer': 12012.03}\n",
      "3\n",
      "{'HP': 11999.0, 'Aplle': 24999.0}\n",
      "2\n"
     ]
    }
   ],
   "source": [
    "laptops={\n",
    "   \"HP\": 11999.0,\n",
    "    \"Aplle\": 24999.0,\n",
    "    \"Acer\": 12012.03,\n",
    "    \"Lenovo\": 17299.0,\n",
    "    \"Dell\": 15524.87\n",
    "}\n",
    "print(laptops)\n",
    "print(len(laptops))\n",
    "\n",
    "laptops.popitem() # -1(el ultimo elemento llave-valor) \n",
    "print(laptops)\n",
    "print(len(laptops))\n",
    "laptops.popitem() # -1(el ultimo elemento llave-valor) \n",
    "print(laptops)\n",
    "print(len(laptops))\n",
    "laptops.popitem() # -1(el ultimo elemento llave-valor) \n",
    "print(laptops)\n",
    "print(len(laptops))"
   ]
  },
  {
   "cell_type": "markdown",
   "id": "85439002",
   "metadata": {},
   "source": [
    "### setdefault\n",
    "Configura un valor por default para cierta llave en caso de que no esté presente en el diccionario\n",
    "\n",
    "Si la llave esta presnte no tendra nigun defecto. Pero si la llave no está, entonces configurará el valor para esa llave."
   ]
  },
  {
   "cell_type": "code",
   "execution_count": 16,
   "id": "d5f3e473",
   "metadata": {},
   "outputs": [
    {
     "name": "stdout",
     "output_type": "stream",
     "text": [
      "11999.0\n",
      "10000.0\n"
     ]
    }
   ],
   "source": [
    "laptops_store_1={\n",
    "   \"HP\": 11999.0,\n",
    "    \"Aplle\": 24999.0,\n",
    "    \"Acer\": 12012.03,\n",
    "    \"Lenovo\": 17299.0,\n",
    "    \"Dell\": 15524.87\n",
    "}\n",
    "laptops_store_2={\n",
    "    \"Aplle\": 24999.0,\n",
    "    \"Acer\": 12012.03,\n",
    "    \"Lenovo\": 17299.0,\n",
    "    \"Dell\": 15524.87\n",
    "}\n",
    "laptops_store_1.setdefault(\"HP\",10000.0)\n",
    "laptops_store_2.setdefault(\"HP\",10000.0)\n",
    "\n",
    "print(laptops_store_1.get(\"HP\"))\n",
    "print(laptops_store_2.get(\"HP\"))"
   ]
  },
  {
   "cell_type": "code",
   "execution_count": 17,
   "id": "c88a9908",
   "metadata": {},
   "outputs": [
    {
     "name": "stdout",
     "output_type": "stream",
     "text": [
      "^C\n"
     ]
    }
   ],
   "source": [
    "!pip install pokebase"
   ]
  },
  {
   "cell_type": "code",
   "execution_count": null,
   "id": "ce93b211",
   "metadata": {},
   "outputs": [],
   "source": []
  }
 ],
 "metadata": {
  "kernelspec": {
   "display_name": "Python 3 (ipykernel)",
   "language": "python",
   "name": "python3"
  },
  "language_info": {
   "codemirror_mode": {
    "name": "ipython",
    "version": 3
   },
   "file_extension": ".py",
   "mimetype": "text/x-python",
   "name": "python",
   "nbconvert_exporter": "python",
   "pygments_lexer": "ipython3",
   "version": "3.11.5"
  }
 },
 "nbformat": 4,
 "nbformat_minor": 5
}
