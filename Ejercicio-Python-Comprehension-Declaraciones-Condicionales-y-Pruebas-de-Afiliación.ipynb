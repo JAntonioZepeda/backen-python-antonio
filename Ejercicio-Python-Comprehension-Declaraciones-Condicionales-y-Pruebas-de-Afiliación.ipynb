{
 "cells": [
  {
   "cell_type": "code",
   "execution_count": 1,
   "id": "6f0a75ae",
   "metadata": {},
   "outputs": [
    {
     "name": "stdout",
     "output_type": "stream",
     "text": [
      "Lista de Reproducción\n",
      "\n",
      "Recomendación de Canciones\n",
      "Escribe el genero que te gusta para recomendarte las mejores canciones, Ejemplo: Rock, pop etc:no se va\n",
      "[['Canción:', 'No Se Va (EN VIVO)', 'Artista:', 'Grupo Frontera'], ['Canción:', 'No Se Va', 'Artista:', 'Morat'], ['Canción:', 'No Se Va', 'Artista:', 'Morat'], ['Canción:', 'NO SE VA (EN VIVO)', 'Artista:', 'Grupo Frontera'], ['Canción:', 'No Se Va', 'Artista:', 'Morat'], ['Canción:', 'No Se Va', 'Artista:', 'Roman El Original'], ['Canción:', 'No Se Va', 'Artista:', \"La K'onga\"], ['Canción:', 'No Se Va', 'Artista:', 'Baby Aventurero'], ['Canción:', 'Não Se Vá', 'Artista:', 'Léo Santana'], ['Canción:', 'No Se Va', 'Artista:', 'La T y la M'], ['Canción:', 'No Se Va', 'Artista:', 'CNCO'], ['Canción:', 'No Se Va', 'Artista:', 'LosPetitFellas'], ['Canción:', 'Vete', 'Artista:', 'Grupo Frontera'], ['Canción:', 'No Se Va (En Vivo en el Luna Park)', 'Artista:', 'Lucas Sugo'], ['Canción:', 'Mas Que Amigos (En Vivo)', 'Artista:', 'Grupo Frontera'], ['Canción:', 'No Se Va', 'Artista:', 'Profesor Galactico'], ['Canción:', 'La Ladrona (En Vivo)', 'Artista:', 'Grupo Frontera'], ['Canción:', 'Si Yo Fuera Ladrón', 'Artista:', 'Grupo Frontera'], ['Canción:', 'No Se Ve (Remix)', 'Artista:', 'Treekoo'], ['Canción:', 'No Se Va (En Vivo)', 'Artista:', '18 Kilates'], ['Canción:', 'No Se Va', 'Artista:', 'Septeto Acarey'], ['Canción:', 'No Te Va', 'Artista:', 'Joey Montana'], ['Canción:', 'No Se Va', 'Artista:', 'Lucas Sugo'], ['Canción:', 'No Se Va Poder', 'Artista:', 'Tito Torbellino Jr'], ['Canción:', 'Não Se Vá', 'Artista:', 'Fernando Belém']]\n"
     ]
    }
   ],
   "source": [
    "import requests\n",
    "print(\"Lista de Reproducción\\n\")\n",
    "# Referencia: https://www.deezer.com/en/channels/explore\n",
    "print(\"Recomendación de Canciones\")\n",
    "\n",
    "word_to_search = input(\"Escribe el genero que te gusta para recomendarte las mejores canciones, Ejemplo: Rock, pop etc:\")\n",
    "url = \"https://deezerdevs-deezer.p.rapidapi.com/search\"\n",
    "querystring = {\"q\":word_to_search}\n",
    "headers = {\n",
    " \"X-RapidAPI-Key\": \"3ed98f551fmshe4e6260228c4eadp13db17jsn8c893e1194da\",\n",
    "\"X-RapidAPI-Host\": \"deezerdevs-deezer.p.rapidapi.com\"}\n",
    "\n",
    "response = requests.request(\"GET\", url, headers=headers, params=querystring).json()\n",
    "\n",
    "my_list=[[\"Canción:\",element['title'],\"Artista:\",element['artist']['name']] for element in response['data']]\n",
    "print(my_list)"
   ]
  },
  {
   "cell_type": "code",
   "execution_count": null,
   "id": "67e05334",
   "metadata": {},
   "outputs": [],
   "source": []
  },
  {
   "cell_type": "code",
   "execution_count": null,
   "id": "43d7f9a7",
   "metadata": {},
   "outputs": [],
   "source": []
  }
 ],
 "metadata": {
  "kernelspec": {
   "display_name": "Python 3 (ipykernel)",
   "language": "python",
   "name": "python3"
  },
  "language_info": {
   "codemirror_mode": {
    "name": "ipython",
    "version": 3
   },
   "file_extension": ".py",
   "mimetype": "text/x-python",
   "name": "python",
   "nbconvert_exporter": "python",
   "pygments_lexer": "ipython3",
   "version": "3.11.5"
  }
 },
 "nbformat": 4,
 "nbformat_minor": 5
}
