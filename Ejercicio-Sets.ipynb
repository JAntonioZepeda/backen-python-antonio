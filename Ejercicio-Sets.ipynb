{
 "cells": [
  {
   "cell_type": "code",
   "execution_count": 7,
   "id": "cb03cf50",
   "metadata": {},
   "outputs": [
    {
     "name": "stdout",
     "output_type": "stream",
     "text": [
      "<class 'set'>\n",
      "{'4AAA', '2D22', '11DD', 'A444', '00CC', '8CCC', 'B666', '7A77', '00D0', '22AA', '9BBB', 'AAA2', '22CC', 'A8A8', '9999', 'C6C6', 'C111', '333D', '5B55', '5CCC', 'DDD5', 'D8D8', '0D00', '9CCC', '222C', '1BBB', '55BB', 'C8C8', 'A6A6', 'B777', 'BBBB', 'BBB0', 'B444', '777D', 'D1D1', 'D555', '33C3', '55B5', 'B000', '44BB', 'A777', 'A666', '555C', '88C8', '1D11', '8BBB', '111A', '1CCC', '22B2', '2A22', 'AAA3', '11B1', '66CC', '555D', 'DDD6', '6B66', 'B9B9', 'C5C5', '66AA', '88B8', 'B5B5', 'C555', '44B4', 'C777', '44DD', '99BB', 'B1B1', '6DDD', 'DDD7', '00AA', '7DDD', '1111', 'CCCC', '77AA', '66BB', 'C222', '222A', '11BB', '8AAA', '4CCC', '4A44', '4C44', 'DDD1', '000A', '222B', 'AAA1', '8B88', '0A00', '888A', 'BBB9', '6D66', '4444', 'C0C0', '11A1', '444A', '00A0', '7777', '3A33', 'AAA5', '66C6', '8888', '5AAA', 'B555', 'D9D9', '22C2', '99D9', '77DD', '11D1', '666B', '33AA', 'B6B6', '555A', '3333', '5C55', '111C', 'A222', 'A1A1', 'DDD3', '66A6', 'A333', 'D222', 'A999', '888C', '00BB', 'AAA9', '9C99', '00C0', 'AAA0', 'BBB4', '99DD', '0000', 'B111', '1DDD', '99CC', '2DDD', 'CCC6', 'DDDD', '333B', '66B6', '7CCC', '999D', '2CCC', 'C3C3', 'AAAA', 'D888', '333A', '6C66', '44AA', 'B999', 'C333', 'C999', '3C33', 'AAA8', 'B3B3', 'DDD4', 'C1C1', '1B11', '7AAA', '7D77', '6BBB', '888D', '1A11', '555B', '6AAA', 'AAA6', '0DDD', 'D666', '55A5', 'AAA7', '99A9', '99B9', '77A7', 'BBB3', '0CCC', 'BBB2', 'C888', '3D33', 'CCC3', 'D777', '44A4', 'A555', '0C00', '11CC', '99C9', 'CCC8', '000B', 'DDD0', '33A3', 'C2C2', '777C', '44D4', 'DDD8', 'A2A2', '3BBB', 'C7C7', 'B0B0', 'C444', '777B', '33B3', 'D444', '8D88', '11C1', 'D2D2', '22DD', '4D44', 'A5A5', 'C000', '77D7', 'DDD2', '1AAA', '777A', '33CC', '9D99', '444B', '00B0', 'D111', '99AA', 'D5D5', '33BB', '55AA', '999C', 'BBB6', '9AAA', 'B4B4', '999A', 'A7A7', '77B7', 'A9A9', '3DDD', '88CC', '5DDD', '5A55', 'A111', '88DD', '00DD', '7BBB', 'BBB1', 'D0D0', 'CCC7', '88BB', '8A88', 'B7B7', '77C7', '0BBB', 'D3D3', '0B00', 'AAA4', '22BB', '3AAA', 'C666', 'D333', '666A', '111B', 'C4C4', 'A888', '77BB', '22A2', 'D000', '2B22', '55C5', '666D', 'B333', '444D', '66DD', '6666', 'CCC2', 'A0A0', '999B', 'CCC4', 'A3A3', '33D3', '5D55', 'CCC1', '9B99', '11AA', '1C11', '6CCC', '55CC', '888B', '2BBB', 'D6D6', 'CCC9', 'B222', 'A000', '55DD', 'D999', '000D', '33DD', '333C', '4DDD', '4BBB', 'B2B2', '2C22', 'CCC5', '2222', '5BBB', '666C', '55D5', '5555', '222D', '7C77', 'A4A4', '77CC', '66D6', '8C88', '6A66', '0AAA', '111D', 'BBB8', '444C', '3CCC', '3B33', '000C', 'CCC0', 'BBB7', '9A99', '4B44', '8DDD', '88AA', '22D2', '88D8', '44C4', 'D4D4', 'D7D7', 'DDD9', '7B77', 'BBB5', '88A8', 'B8B8', '9DDD', 'C9C9', '2AAA', '44CC', 'B888'}\n"
     ]
    }
   ],
   "source": [
    "numbers = ['0', '1', '2', '3', '4', '5', '6', '7', '8', '9'] \n",
    "letters = ['A', 'B', 'C','D']\n",
    "unique_combinations = set() \n",
    "for number in numbers:    \n",
    "    for letter in letters:\n",
    "        unique_combinations.add(\"{}{}{}{}\".format(number,number,number,number))\n",
    "        unique_combinations.add(\"{}{}{}{}\".format(number,number,number,letter))\n",
    "        unique_combinations.add(\"{}{}{}{}\".format(number,number,letter,number))\n",
    "        unique_combinations.add(\"{}{}{}{}\".format(number,letter,number,number))\n",
    "        unique_combinations.add(\"{}{}{}{}\".format(letter,number,number,number))\n",
    "        unique_combinations.add(\"{}{}{}{}\".format(number,letter,letter,letter))\n",
    "        unique_combinations.add(\"{}{}{}{}\".format(letter,letter,letter,letter))\n",
    "        unique_combinations.add(\"{}{}{}{}\".format(letter,letter,letter,number))\n",
    "        unique_combinations.add(\"{}{}{}{}\".format(letter,number,letter,number))\n",
    "        unique_combinations.add(\"{}{}{}{}\".format(number,number,letter,letter))\n",
    "        \n",
    "             \n",
    "print(type(unique_combinations))\n",
    "print(unique_combinations)\n",
    "        \n",
    "\n",
    "\n",
    "\n",
    "\n",
    "\n",
    "\n",
    "\n",
    "\n",
    "\n",
    "\n",
    "\n",
    "\n",
    "\n",
    "\n",
    "\n",
    "\n",
    "\n",
    "\n",
    "\n",
    "\n",
    "\n",
    "\n",
    "\n",
    "\n",
    "\n"
   ]
  },
  {
   "cell_type": "code",
   "execution_count": null,
   "id": "79de77c2",
   "metadata": {},
   "outputs": [],
   "source": []
  }
 ],
 "metadata": {
  "kernelspec": {
   "display_name": "Python 3 (ipykernel)",
   "language": "python",
   "name": "python3"
  },
  "language_info": {
   "codemirror_mode": {
    "name": "ipython",
    "version": 3
   },
   "file_extension": ".py",
   "mimetype": "text/x-python",
   "name": "python",
   "nbconvert_exporter": "python",
   "pygments_lexer": "ipython3",
   "version": "3.11.5"
  }
 },
 "nbformat": 4,
 "nbformat_minor": 5
}
