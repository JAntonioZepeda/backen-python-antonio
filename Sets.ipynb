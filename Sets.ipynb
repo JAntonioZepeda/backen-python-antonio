{
 "cells": [
  {
   "cell_type": "markdown",
   "id": "a1c75189",
   "metadata": {},
   "source": [
    "# Creado y Modificado de Sets"
   ]
  },
  {
   "cell_type": "code",
   "execution_count": 4,
   "id": "56d54cb1",
   "metadata": {},
   "outputs": [
    {
     "name": "stdout",
     "output_type": "stream",
     "text": [
      "<class 'set'>\n",
      "1\n",
      "{'python'}\n"
     ]
    }
   ],
   "source": [
    "my_set =set()\n",
    "my_set.add(\"python\")\n",
    "print(type(my_set))\n",
    "print(len(my_set))\n",
    "print(my_set)\n"
   ]
  },
  {
   "cell_type": "code",
   "execution_count": 5,
   "id": "b2c8cedd",
   "metadata": {},
   "outputs": [],
   "source": [
    "#Listas --- []\n",
    "#Tuplas ---- ()\n",
    "#Sets-------{}\n"
   ]
  },
  {
   "cell_type": "code",
   "execution_count": 8,
   "id": "0e71b43c",
   "metadata": {},
   "outputs": [
    {
     "name": "stdout",
     "output_type": "stream",
     "text": [
      "<class 'set'>\n",
      "4\n",
      "{'python', 3.1416, 'Backend', 23}\n"
     ]
    }
   ],
   "source": [
    "my_set =set()\n",
    "my_set.add(\"python\")\n",
    "my_set.update((23,\"Backend\", 3.1416))\n",
    "\n",
    "\n",
    "\n",
    "print(type(my_set))\n",
    "print(len(my_set))\n",
    "print(my_set)\n"
   ]
  },
  {
   "cell_type": "code",
   "execution_count": 11,
   "id": "b6f5972d",
   "metadata": {},
   "outputs": [
    {
     "name": "stdout",
     "output_type": "stream",
     "text": [
      "<class 'set'>\n",
      "4\n",
      "{'python', 3.1416, 'Backend', 23}\n"
     ]
    }
   ],
   "source": [
    "my_set=set()\n",
    "my_set.add(\"python\")\n",
    "my_set.update((23,\"Backend\",3.1416))\n",
    "my_set.add(\"python\")\n",
    "my_set.add(\"python\")\n",
    "my_set.add(\"python\")\n",
    "my_set.add(23)\n",
    "my_set.add(23)\n",
    "my_set.add(23)\n",
    "my_set.add(3.1416)\n",
    "my_set.add(3.1416)\n",
    "my_set.add(3.1416)\n",
    "my_set.add(3.1416)\n",
    "\n",
    "print(type(my_set))\n",
    "print(len(my_set))\n",
    "print(my_set)"
   ]
  },
  {
   "cell_type": "code",
   "execution_count": 12,
   "id": "85766aec",
   "metadata": {},
   "outputs": [
    {
     "name": "stdout",
     "output_type": "stream",
     "text": [
      "<class 'set'>\n",
      "4\n",
      "{'python', 3.1416, 'Backend', 23}\n"
     ]
    }
   ],
   "source": [
    "my_set={'python', 3.1416, 'Backend', 23}\n",
    "print(type(my_set))\n",
    "print(len(my_set))\n",
    "print(my_set)"
   ]
  },
  {
   "cell_type": "markdown",
   "id": "86223e3d",
   "metadata": {},
   "source": [
    "# Métodos para manipulación de sets"
   ]
  },
  {
   "cell_type": "markdown",
   "id": "a2c78703",
   "metadata": {},
   "source": [
    "### add\n",
    "Sirver para agregar elelentos a un set"
   ]
  },
  {
   "cell_type": "code",
   "execution_count": 13,
   "id": "cc1c9bdb",
   "metadata": {},
   "outputs": [
    {
     "name": "stdout",
     "output_type": "stream",
     "text": [
      "<class 'set'>\n",
      "4\n",
      "{1, 11, 5, 23}\n"
     ]
    }
   ],
   "source": [
    "my_set={1, 5, 11, 23}\n",
    "print(type(my_set))\n",
    "print(len(my_set))\n",
    "print(my_set)"
   ]
  },
  {
   "cell_type": "code",
   "execution_count": 14,
   "id": "61e88f2d",
   "metadata": {},
   "outputs": [],
   "source": [
    "my_set.add(1)\n",
    "my_set.add(2)\n",
    "my_set.add(3)"
   ]
  },
  {
   "cell_type": "code",
   "execution_count": 15,
   "id": "245ed9ea",
   "metadata": {},
   "outputs": [
    {
     "name": "stdout",
     "output_type": "stream",
     "text": [
      "<class 'set'>\n",
      "6\n",
      "{1, 2, 3, 5, 11, 23}\n"
     ]
    }
   ],
   "source": [
    "print(type(my_set))\n",
    "print(len(my_set))\n",
    "print(my_set)"
   ]
  },
  {
   "cell_type": "markdown",
   "id": "bd65ed80",
   "metadata": {},
   "source": [
    "## clear\n",
    "Sirver para remover todos los elementos de sets"
   ]
  },
  {
   "cell_type": "code",
   "execution_count": 16,
   "id": "19191d15",
   "metadata": {},
   "outputs": [
    {
     "name": "stdout",
     "output_type": "stream",
     "text": [
      "<class 'set'>\n",
      "4\n",
      "{1, 11, 5, 23} \n",
      "\n",
      "<class 'set'>\n",
      "0\n",
      "set()\n"
     ]
    }
   ],
   "source": [
    "my_set={1, 5, 11, 23}\n",
    "\n",
    "print(type(my_set))\n",
    "print(len(my_set))\n",
    "print(my_set,\"\\n\")\n",
    "\n",
    "my_set.clear()\n",
    "\n",
    "\n",
    "print(type(my_set))\n",
    "print(len(my_set))\n",
    "print(my_set)"
   ]
  },
  {
   "cell_type": "markdown",
   "id": "8bfa5021",
   "metadata": {},
   "source": [
    "## copy\n",
    "Sirve para copiar los elementos en un nuevo set"
   ]
  },
  {
   "cell_type": "code",
   "execution_count": 17,
   "id": "523f18f8",
   "metadata": {},
   "outputs": [
    {
     "name": "stdout",
     "output_type": "stream",
     "text": [
      "<class 'set'>\n",
      "4\n",
      "{1, 11, 5, 23} \n",
      "\n",
      "<class 'set'>\n",
      "4\n",
      "{1, 11, 5, 23} \n",
      "\n",
      "<class 'set'>\n",
      "4\n",
      "{1, 11, 5, 23} \n",
      "\n",
      "<class 'set'>\n",
      "0\n",
      "set() \n",
      "\n"
     ]
    }
   ],
   "source": [
    "my_set={1, 5, 11, 23}\n",
    "my_set2=my_set.copy()\n",
    "\n",
    "print(type(my_set))\n",
    "print(len(my_set))\n",
    "print(my_set,\"\\n\")\n",
    "\n",
    "print(type(my_set2))\n",
    "print(len(my_set2))\n",
    "print(my_set2,\"\\n\")\n",
    "\n",
    "my_set2.clear()\n",
    "\n",
    "print(type(my_set))\n",
    "print(len(my_set))\n",
    "print(my_set,\"\\n\")\n",
    "\n",
    "print(type(my_set2))\n",
    "print(len(my_set2))\n",
    "print(my_set2,\"\\n\")"
   ]
  },
  {
   "cell_type": "code",
   "execution_count": 20,
   "id": "7fc3e728",
   "metadata": {},
   "outputs": [
    {
     "name": "stdout",
     "output_type": "stream",
     "text": [
      "<class 'set'>\n",
      "4\n",
      "{1, 11, 5, 23} \n",
      "\n",
      "<class 'set'>\n",
      "4\n",
      "{1, 11, 5, 23} \n",
      "\n",
      "<class 'set'>\n",
      "0\n",
      "set() \n",
      "\n",
      "<class 'set'>\n",
      "0\n",
      "set() \n",
      "\n"
     ]
    }
   ],
   "source": [
    "my_set={1, 5, 11, 23}\n",
    "my_set2=my_set\n",
    "\n",
    "print(type(my_set))\n",
    "print(len(my_set))\n",
    "print(my_set,\"\\n\")\n",
    "\n",
    "print(type(my_set2))\n",
    "print(len(my_set2))\n",
    "print(my_set2,\"\\n\")\n",
    "\n",
    "my_set2.clear()\n",
    "\n",
    "print(type(my_set))\n",
    "print(len(my_set))\n",
    "print(my_set,\"\\n\")\n",
    "\n",
    "print(type(my_set2))\n",
    "print(len(my_set2))\n",
    "print(my_set2,\"\\n\")"
   ]
  },
  {
   "cell_type": "markdown",
   "id": "11426d78",
   "metadata": {},
   "source": [
    "### difference\n",
    "Sirve para obtener los valores presentes en el primer set, y faltantes en el segundo set"
   ]
  },
  {
   "cell_type": "code",
   "execution_count": 22,
   "id": "fbf05105",
   "metadata": {},
   "outputs": [
    {
     "name": "stdout",
     "output_type": "stream",
     "text": [
      "{8, 2, 4, 6}\n",
      "{9, 3, 5}\n"
     ]
    }
   ],
   "source": [
    "set_a = {1,3,5,7,9}\n",
    "set_b= {1,2,4,6,7,8}\n",
    "\n",
    "#valores que hay en el set b faltan en el set a\n",
    "print(set_b.difference(set_a))\n",
    "\n",
    "#valores que hay en el set a faltan en el set b\n",
    "print(set_a.difference(set_b))"
   ]
  },
  {
   "cell_type": "markdown",
   "id": "0b5bb82b",
   "metadata": {},
   "source": [
    "### Difference_update\n",
    "Sirve para conservar solo los valores diferentes en el set solicitado y el que es mandado como parámetro\n",
    "\n"
   ]
  },
  {
   "cell_type": "code",
   "execution_count": 24,
   "id": "14d80951",
   "metadata": {},
   "outputs": [
    {
     "name": "stdout",
     "output_type": "stream",
     "text": [
      "{2, 4, 6, 8}\n",
      "{1, 3, 5, 7, 9}\n"
     ]
    }
   ],
   "source": [
    "set_a = {1,3,5,7,9}\n",
    "set_b= {1,2,4,6,7,8}\n",
    "#valores que hay en el set b faltan en el set a\n",
    "set_b.difference_update(set_a)\n",
    "print(set_b)\n",
    "\n",
    "#valores que hay en el set a faltan en el set b\n",
    "set_a.difference_update(set_b)\n",
    "print(set_a)"
   ]
  },
  {
   "cell_type": "code",
   "execution_count": 25,
   "id": "47e7ad96",
   "metadata": {},
   "outputs": [
    {
     "name": "stdout",
     "output_type": "stream",
     "text": [
      "{3, 5, 9}\n",
      "{1, 2, 4, 6, 7, 8}\n"
     ]
    }
   ],
   "source": [
    "set_a = {1,3,5,7,9}\n",
    "set_b= {1,2,4,6,7,8}\n",
    "#valores que hay en el set b faltan en el set a\n",
    "set_a.difference_update(set_b)\n",
    "print(set_a)\n",
    "\n",
    "#valores que hay en el set a faltan en el set b\n",
    "set_b.difference_update(set_a)\n",
    "print(set_b)"
   ]
  },
  {
   "cell_type": "markdown",
   "id": "d11c9be3",
   "metadata": {},
   "source": [
    "### discard\n",
    "Sirve para eliminar un elemento del set si esta presente"
   ]
  },
  {
   "cell_type": "code",
   "execution_count": 28,
   "id": "097b9b95",
   "metadata": {},
   "outputs": [
    {
     "name": "stdout",
     "output_type": "stream",
     "text": [
      "<class 'set'>\n",
      "4\n",
      "{'python', 'scala', 'go', 'javascript'} \n",
      "\n",
      "<class 'set'>\n",
      "3\n",
      "{'python', 'scala', 'javascript'}\n",
      "<class 'set'>\n",
      "3\n",
      "{'python', 'scala', 'javascript'} \n",
      "\n"
     ]
    }
   ],
   "source": [
    "my_set= {\"python\",\"javascript\",\"go\",\"scala\"}\n",
    "print(type(my_set))\n",
    "print(len(my_set))\n",
    "print(my_set,\"\\n\")\n",
    "\n",
    "my_set.discard(\"go\")\n",
    "\n",
    "print(type(my_set))\n",
    "print(len(my_set))\n",
    "print(my_set)\n",
    "\n",
    "# no importa que el valor este presente\n",
    "my_set.discard(\"test\")\n",
    "print(type(my_set))\n",
    "print(len(my_set))\n",
    "print(my_set,\"\\n\")\n",
    "\n"
   ]
  },
  {
   "cell_type": "markdown",
   "id": "d50ca9f4",
   "metadata": {},
   "source": [
    "### intersection\n",
    "Obtiene los valores en comun en 2 sets"
   ]
  },
  {
   "cell_type": "code",
   "execution_count": 29,
   "id": "e8f0fd97",
   "metadata": {},
   "outputs": [
    {
     "name": "stdout",
     "output_type": "stream",
     "text": [
      "{1, 7}\n",
      "{1, 7}\n"
     ]
    }
   ],
   "source": [
    "set_a= {1,3,5,7,9}\n",
    "set_b = {1,2,4,6,7,8}\n",
    "print(set_a.intersection(set_b))\n",
    "\n",
    "print(set_b.intersection(set_a))\n"
   ]
  },
  {
   "cell_type": "markdown",
   "id": "28e027b7",
   "metadata": {},
   "source": [
    "### intersection_update\n",
    "Obtiene los valores en común en 2 sets y los asigna al set que manda llamar el método"
   ]
  },
  {
   "cell_type": "code",
   "execution_count": 31,
   "id": "64d12780",
   "metadata": {},
   "outputs": [
    {
     "name": "stdout",
     "output_type": "stream",
     "text": [
      "<class 'set'>\n",
      "2\n",
      "{1, 7} \n",
      "\n",
      "<class 'set'>\n",
      "6\n",
      "{1, 2, 4, 6, 7, 8} \n",
      "\n"
     ]
    }
   ],
   "source": [
    "set_a= {1,3,5,7,9}\n",
    "set_b = {1,2,4,6,7,8}\n",
    "set_a.intersection_update(set_b)\n",
    "print(type(set_a))\n",
    "print(len(set_a))\n",
    "print(set_a,\"\\n\")\n",
    "\n",
    "print(type(set_b))\n",
    "print(len(set_b))\n",
    "print(set_b,\"\\n\")\n",
    "\n"
   ]
  },
  {
   "cell_type": "markdown",
   "id": "23edff91",
   "metadata": {},
   "source": [
    "### isdisjoint\n",
    "-True: si no hay valores compartidos por ambos sets\n",
    "\n",
    "-False: si hay por lo menos un valor compratido por ambos sets"
   ]
  },
  {
   "cell_type": "code",
   "execution_count": 33,
   "id": "076acc5b",
   "metadata": {},
   "outputs": [
    {
     "name": "stdout",
     "output_type": "stream",
     "text": [
      "False\n"
     ]
    }
   ],
   "source": [
    "set_a={1,3,5,7,9}\n",
    "set_b = {1,2,4,6,7,8}\n",
    "\n",
    "print(set_a.isdisjoint(set_b))\n"
   ]
  },
  {
   "cell_type": "code",
   "execution_count": 34,
   "id": "b42c589d",
   "metadata": {},
   "outputs": [
    {
     "name": "stdout",
     "output_type": "stream",
     "text": [
      "False\n"
     ]
    }
   ],
   "source": [
    "set_a={1,3}\n",
    "set_b = {1,2,4,6,7,8}\n",
    "\n",
    "print(set_a.isdisjoint(set_b))"
   ]
  },
  {
   "cell_type": "code",
   "execution_count": 35,
   "id": "72b520de",
   "metadata": {},
   "outputs": [
    {
     "name": "stdout",
     "output_type": "stream",
     "text": [
      "True\n"
     ]
    }
   ],
   "source": [
    "set_a={0,3}\n",
    "set_b = {1,2,4,6,7,8}\n",
    "\n",
    "print(set_a.isdisjoint(set_b))"
   ]
  },
  {
   "cell_type": "markdown",
   "id": "dc105ea5",
   "metadata": {},
   "source": [
    "### issubset\n",
    "True: Si todos los valores del set llamado están en el set pasado como parámetro "
   ]
  },
  {
   "cell_type": "code",
   "execution_count": 36,
   "id": "b6e6b2fb",
   "metadata": {},
   "outputs": [
    {
     "name": "stdout",
     "output_type": "stream",
     "text": [
      "True\n"
     ]
    }
   ],
   "source": [
    "set_a= {1,8}\n",
    "set_b= {1,2,4,6,7,8}\n",
    "print(set_a.issubset(set_b))\n"
   ]
  },
  {
   "cell_type": "code",
   "execution_count": 37,
   "id": "50c1fda3",
   "metadata": {},
   "outputs": [
    {
     "name": "stdout",
     "output_type": "stream",
     "text": [
      "False\n"
     ]
    }
   ],
   "source": [
    "set_a= {1,3,8}\n",
    "set_b= {1,2,4,6,7,8}\n",
    "print(set_a.issubset(set_b))\n"
   ]
  },
  {
   "cell_type": "markdown",
   "id": "e8cfcb2e",
   "metadata": {},
   "source": [
    "### issuperset\n",
    "En cierta forma es opuesto a issubset\n",
    "\n",
    "Analiza si todos los valores del set pasado como parámetro están en el set llamado"
   ]
  },
  {
   "cell_type": "code",
   "execution_count": 39,
   "id": "d6b310be",
   "metadata": {},
   "outputs": [
    {
     "name": "stdout",
     "output_type": "stream",
     "text": [
      "True\n"
     ]
    }
   ],
   "source": [
    "set_a = {1,8}\n",
    "set_b = {1,2,4,6,7,8}\n",
    "print(set_b.issuperset(set_a))\n"
   ]
  },
  {
   "cell_type": "code",
   "execution_count": 40,
   "id": "f3e3c6ca",
   "metadata": {},
   "outputs": [
    {
     "name": "stdout",
     "output_type": "stream",
     "text": [
      "False\n"
     ]
    }
   ],
   "source": [
    "set_a = {1,3,8}\n",
    "set_b = {1,2,4,6,7,8}\n",
    "print(set_b.issuperset(set_a))\n"
   ]
  },
  {
   "cell_type": "markdown",
   "id": "380bbf71",
   "metadata": {},
   "source": [
    "### pop\n",
    "Elimina el primer elemento de set"
   ]
  },
  {
   "cell_type": "code",
   "execution_count": 1,
   "id": "d2bbe27b",
   "metadata": {},
   "outputs": [
    {
     "name": "stdout",
     "output_type": "stream",
     "text": [
      "<class 'set'>\n",
      "6\n",
      "{1, 2, 4, 6, 7, 8} \n",
      "\n",
      "1\n",
      "2\n",
      "4 \n",
      "\n",
      "<class 'set'>\n",
      "3\n",
      "{6, 7, 8}\n"
     ]
    }
   ],
   "source": [
    "my_set={1, 2, 4, 6, 7, 8}\n",
    "print(type(my_set))\n",
    "print(len(my_set))\n",
    "print(my_set,\"\\n\")\n",
    "\n",
    "print(my_set.pop())\n",
    "print(my_set.pop())\n",
    "print(my_set.pop(),\"\\n\")\n",
    "\n",
    "\n",
    "print(type(my_set))\n",
    "print(len(my_set))\n",
    "print(my_set)"
   ]
  },
  {
   "cell_type": "markdown",
   "id": "153e831c",
   "metadata": {},
   "source": [
    "### remove\n",
    "elimina elemento pasado como paámetro; debe de estar presente en el seto mandará un error"
   ]
  },
  {
   "cell_type": "code",
   "execution_count": 3,
   "id": "18e91e43",
   "metadata": {},
   "outputs": [
    {
     "name": "stdout",
     "output_type": "stream",
     "text": [
      "<class 'set'>\n",
      "6\n",
      "{1, 2, 4, 6, 7, 8} \n",
      "\n",
      "<class 'set'>\n",
      "5\n",
      "{1, 2, 6, 7, 8} \n",
      "\n"
     ]
    },
    {
     "ename": "KeyError",
     "evalue": "3",
     "output_type": "error",
     "traceback": [
      "\u001b[1;31m---------------------------------------------------------------------------\u001b[0m",
      "\u001b[1;31mKeyError\u001b[0m                                  Traceback (most recent call last)",
      "Cell \u001b[1;32mIn[3], line 12\u001b[0m\n\u001b[0;32m      9\u001b[0m \u001b[38;5;28mprint\u001b[39m(\u001b[38;5;28mlen\u001b[39m(my_set))\n\u001b[0;32m     10\u001b[0m \u001b[38;5;28mprint\u001b[39m(my_set,\u001b[38;5;124m\"\u001b[39m\u001b[38;5;130;01m\\n\u001b[39;00m\u001b[38;5;124m\"\u001b[39m)\n\u001b[1;32m---> 12\u001b[0m my_set\u001b[38;5;241m.\u001b[39mremove(\u001b[38;5;241m3\u001b[39m)\n\u001b[0;32m     14\u001b[0m \u001b[38;5;28mprint\u001b[39m(\u001b[38;5;28mtype\u001b[39m(my_set))\n\u001b[0;32m     15\u001b[0m \u001b[38;5;28mprint\u001b[39m(\u001b[38;5;28mlen\u001b[39m(my_set))\n",
      "\u001b[1;31mKeyError\u001b[0m: 3"
     ]
    }
   ],
   "source": [
    "my_set={1, 2, 4, 6, 7, 8}\n",
    "print(type(my_set))\n",
    "print(len(my_set))\n",
    "print(my_set,\"\\n\")\n",
    "\n",
    "my_set.remove(4)\n",
    "\n",
    "print(type(my_set))\n",
    "print(len(my_set))\n",
    "print(my_set,\"\\n\")\n",
    "\n",
    "my_set.remove(3)\n",
    "\n",
    "print(type(my_set))\n",
    "print(len(my_set))\n",
    "print(my_set,\"\\n\")"
   ]
  },
  {
   "cell_type": "markdown",
   "id": "42d3f12c",
   "metadata": {},
   "source": [
    "### union\n",
    "Combina 2 sets"
   ]
  },
  {
   "cell_type": "code",
   "execution_count": 4,
   "id": "9ba92a7b",
   "metadata": {},
   "outputs": [
    {
     "name": "stdout",
     "output_type": "stream",
     "text": [
      "{0, 1, 2, 3, 4, 5, 8, 9}\n"
     ]
    }
   ],
   "source": [
    "set_a={1,2,3,4,5}\n",
    "set_b={1,4,8,9,5,0}\n",
    "set_c=set_a.union(set_b)\n",
    "print(set_c)"
   ]
  },
  {
   "cell_type": "markdown",
   "id": "7ac9fd2b",
   "metadata": {},
   "source": [
    "### update\n",
    "añade los valores del set pasado como parámetros al set llamado"
   ]
  },
  {
   "cell_type": "code",
   "execution_count": 7,
   "id": "7fdb53e1",
   "metadata": {},
   "outputs": [
    {
     "name": "stdout",
     "output_type": "stream",
     "text": [
      "{0, 1, 2, 3, 4, 5, 8, 9}\n",
      "{0, 1, 4, 5, 8, 9}\n"
     ]
    }
   ],
   "source": [
    "set_a={1,2,3,4,5}\n",
    "set_b={1,4,8,9,5,0}\n",
    "\n",
    "set_a.update(set_b)\n",
    "print(set_a)\n",
    "print(set_b)"
   ]
  },
  {
   "cell_type": "markdown",
   "id": "0ad3a8a5",
   "metadata": {},
   "source": [
    "### symmetric_difference\n",
    "Obtiene las diferenciasen ambos sets"
   ]
  },
  {
   "cell_type": "code",
   "execution_count": 9,
   "id": "1c070ce0",
   "metadata": {},
   "outputs": [
    {
     "name": "stdout",
     "output_type": "stream",
     "text": [
      "{0, 2, 3, 8, 9}\n",
      "{0, 2, 3, 8, 9}\n"
     ]
    }
   ],
   "source": [
    "set_a={1,2,3,4,5}\n",
    "set_b={1,4,8,9,5,0}\n",
    "print(set_a.symmetric_difference(set_b))\n",
    "print(set_b.symmetric_difference(set_a))"
   ]
  },
  {
   "cell_type": "markdown",
   "id": "2fd4005c",
   "metadata": {},
   "source": [
    "### symmetric_difference_update\n",
    "Obtiene las diferencias de ambos sets y asigna los valores al set llamado"
   ]
  },
  {
   "cell_type": "code",
   "execution_count": 11,
   "id": "0c8ae128",
   "metadata": {},
   "outputs": [
    {
     "name": "stdout",
     "output_type": "stream",
     "text": [
      "{0, 2, 3, 8, 9}\n",
      "{0, 1, 4, 5, 8, 9}\n"
     ]
    }
   ],
   "source": [
    "set_a={1,2,3,4,5}\n",
    "set_b={1,4,8,9,5,0}\n",
    "set_a.symmetric_difference_update(set_b)\n",
    "print(set_a)\n",
    "print(set_b)"
   ]
  },
  {
   "cell_type": "markdown",
   "id": "a7fd739f",
   "metadata": {},
   "source": [
    "# Conversión de sets"
   ]
  },
  {
   "cell_type": "markdown",
   "id": "a028abfb",
   "metadata": {},
   "source": [
    "### Cadena a Set"
   ]
  },
  {
   "cell_type": "code",
   "execution_count": 1,
   "id": "2a97bd6d",
   "metadata": {},
   "outputs": [
    {
     "name": "stdout",
     "output_type": "stream",
     "text": [
      "<class 'str'>\n",
      "Backend Python \n",
      "\n",
      "<class 'set'>\n",
      "{'B', 'd', ' ', 'o', 'e', 'k', 'c', 'h', 't', 'n', 'P', 'y', 'a'} \n",
      "\n"
     ]
    }
   ],
   "source": [
    "my_string =\"Backend Python\"\n",
    "my_set=set(my_string)\n",
    "\n",
    "\n",
    "print(type(my_string))\n",
    "print(my_string,\"\\n\")\n",
    "\n",
    "print(type(my_set))\n",
    "print(my_set,\"\\n\")"
   ]
  },
  {
   "cell_type": "markdown",
   "id": "1866581d",
   "metadata": {},
   "source": [
    "### Listas a Sets"
   ]
  },
  {
   "cell_type": "code",
   "execution_count": 2,
   "id": "ccd7e4b8",
   "metadata": {},
   "outputs": [
    {
     "name": "stdout",
     "output_type": "stream",
     "text": [
      "<class 'list'>\n",
      "[1, 1, 1, 2, 2, 2, 3, 3, 3, 4, 4, 5] \n",
      "\n",
      "<class 'set'>\n",
      "{1, 2, 3, 4, 5} \n",
      "\n"
     ]
    }
   ],
   "source": [
    "my_list=[1,1,1,2,2,2,3,3,3,4,4,5]\n",
    "my_set=set(my_list)\n",
    "\n",
    "print(type(my_list))\n",
    "print(my_list,\"\\n\")\n",
    "\n",
    "print(type(my_set))\n",
    "print(my_set,\"\\n\")\n"
   ]
  },
  {
   "cell_type": "markdown",
   "id": "9d51c55b",
   "metadata": {},
   "source": [
    "### Tuplas a Sets"
   ]
  },
  {
   "cell_type": "code",
   "execution_count": 3,
   "id": "9e1e3e2f",
   "metadata": {},
   "outputs": [
    {
     "name": "stdout",
     "output_type": "stream",
     "text": [
      "<class 'tuple'>\n",
      "(1, 1, 1, 2, 2, 2, 3, 3, 3, 4, 4, 6) \n",
      "\n",
      "<class 'set'>\n",
      "{1, 2, 3, 4, 6} \n",
      "\n"
     ]
    }
   ],
   "source": [
    "my_tuple=(1,1,1,2,2,2,3,3,3,4,4,6)\n",
    "my_set=set(my_tuple)\n",
    "\n",
    "print(type(my_tuple))\n",
    "print(my_tuple,\"\\n\")\n",
    "\n",
    "print(type(my_set))\n",
    "print(my_set,\"\\n\")\n"
   ]
  },
  {
   "cell_type": "markdown",
   "id": "26e02ce4",
   "metadata": {},
   "source": [
    "### Sets a Cadena"
   ]
  },
  {
   "cell_type": "code",
   "execution_count": 4,
   "id": "6ceab01e",
   "metadata": {},
   "outputs": [
    {
     "name": "stdout",
     "output_type": "stream",
     "text": [
      "<class 'set'>\n",
      "{'B', 'd', ' ', 'o', 'e', 'k', 'c', 'h', 't', 'n', 'P', 'y', 'a'} \n",
      "\n",
      "<class 'str'>\n",
      "Bd oekchtnPya\n"
     ]
    }
   ],
   "source": [
    "my_set ={'B', 'd', ' ', 'o', 'e', 'k', 'c', 'h', 't', 'n', 'P', 'y', 'a'}\n",
    "my_string=\"\".join(my_set)\n",
    "\n",
    "print(type(my_set))\n",
    "print(my_set,\"\\n\")\n",
    "\n",
    "print(type(my_string))\n",
    "print(my_string)"
   ]
  },
  {
   "cell_type": "markdown",
   "id": "03b7837d",
   "metadata": {},
   "source": [
    "###  Set a Lista"
   ]
  },
  {
   "cell_type": "code",
   "execution_count": 5,
   "id": "b56b550b",
   "metadata": {},
   "outputs": [
    {
     "name": "stdout",
     "output_type": "stream",
     "text": [
      "<class 'set'>\n",
      "{1, 2, 3, 4, 5} \n",
      "\n",
      "<class 'list'>\n",
      "[1, 2, 3, 4, 5] \n",
      "\n"
     ]
    }
   ],
   "source": [
    "my_set={1,2,3,4,5}\n",
    "my_list=list(my_set)\n",
    "\n",
    "print(type(my_set))\n",
    "print(my_set,\"\\n\")\n",
    "\n",
    "print(type(my_list))\n",
    "print(my_list,\"\\n\")"
   ]
  },
  {
   "cell_type": "markdown",
   "id": "cec3f0ea",
   "metadata": {},
   "source": [
    "### Set a Tupla"
   ]
  },
  {
   "cell_type": "code",
   "execution_count": 6,
   "id": "a305dd89",
   "metadata": {},
   "outputs": [
    {
     "name": "stdout",
     "output_type": "stream",
     "text": [
      "<class 'set'>\n",
      "{1, 2, 3, 4, 5, 6} \n",
      "\n",
      "<class 'tuple'>\n",
      "(1, 2, 3, 4, 5, 6) \n",
      "\n"
     ]
    }
   ],
   "source": [
    "my_set={1,2,3,4,5,6}\n",
    "my_tuple=tuple(my_set)\n",
    "\n",
    "print(type(my_set))\n",
    "print(my_set,\"\\n\")\n",
    "\n",
    "print(type(my_tuple))\n",
    "print(my_tuple,\"\\n\")"
   ]
  },
  {
   "cell_type": "code",
   "execution_count": null,
   "id": "c2a72455",
   "metadata": {},
   "outputs": [],
   "source": []
  }
 ],
 "metadata": {
  "kernelspec": {
   "display_name": "Python 3 (ipykernel)",
   "language": "python",
   "name": "python3"
  },
  "language_info": {
   "codemirror_mode": {
    "name": "ipython",
    "version": 3
   },
   "file_extension": ".py",
   "mimetype": "text/x-python",
   "name": "python",
   "nbconvert_exporter": "python",
   "pygments_lexer": "ipython3",
   "version": "3.11.5"
  }
 },
 "nbformat": 4,
 "nbformat_minor": 5
}
