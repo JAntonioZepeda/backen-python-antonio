{
 "cells": [
  {
   "cell_type": "markdown",
   "id": "2c995d71",
   "metadata": {},
   "source": [
    "##  Diferentes formas de crear Tuplas"
   ]
  },
  {
   "cell_type": "code",
   "execution_count": 3,
   "id": "4a33f6fc",
   "metadata": {},
   "outputs": [
    {
     "name": "stdout",
     "output_type": "stream",
     "text": [
      "<class 'tuple'>\n",
      "('Carlos', 'Test', 300, 15.79)\n"
     ]
    }
   ],
   "source": [
    "my_tuples=(\"Carlos\",\"Test\",300,15.79)\n",
    "print(type(my_tuples))\n",
    "print(my_tuples)"
   ]
  },
  {
   "cell_type": "code",
   "execution_count": 4,
   "id": "bedef99d",
   "metadata": {},
   "outputs": [
    {
     "name": "stdout",
     "output_type": "stream",
     "text": [
      "<class 'tuple'>\n",
      "('Carlos', 'Test', 300, 15.79)\n"
     ]
    }
   ],
   "source": [
    "my_tuples=\"Carlos\",\"Test\",300,15.79\n",
    "print(type(my_tuples))\n",
    "print(my_tuples)"
   ]
  },
  {
   "cell_type": "code",
   "execution_count": 6,
   "id": "7a3a2fd1",
   "metadata": {},
   "outputs": [
    {
     "name": "stdout",
     "output_type": "stream",
     "text": [
      "<class 'tuple'>\n",
      "(100, 200, 300, 400, 500)\n"
     ]
    }
   ],
   "source": [
    "my_list=[100,200,300,400,500]\n",
    "my_tuples=tuple(my_list)\n",
    "print(type(my_tuples))\n",
    "print(my_tuples)"
   ]
  },
  {
   "cell_type": "markdown",
   "id": "faae37d7",
   "metadata": {},
   "source": [
    "## Método sort para ordenar en Tuplas"
   ]
  },
  {
   "cell_type": "code",
   "execution_count": 11,
   "id": "7629112c",
   "metadata": {},
   "outputs": [
    {
     "name": "stdout",
     "output_type": "stream",
     "text": [
      "<class 'tuple'>\n",
      "(100, 2, 5, 6, 3, 1, 54)\n",
      "<class 'list'>\n",
      "[1, 2, 3, 5, 6, 54, 100]\n",
      "<class 'tuple'>\n",
      "(1, 2, 3, 5, 6, 54, 100)\n"
     ]
    }
   ],
   "source": [
    "my_tuple=(100,2,5,6,3,1,54)\n",
    "my_sorted_tuple=sorted(my_tuple)\n",
    "my_sorted_tuple_2=tuple(sorted(my_sorted_tuple))\n",
    "print(type(my_tuple))\n",
    "print(my_tuple)\n",
    "print(type(my_sorted_tuple))\n",
    "print(my_sorted_tuple)\n",
    "print(type(my_sorted_tuple_2))\n",
    "print(my_sorted_tuple_2)\n"
   ]
  },
  {
   "cell_type": "markdown",
   "id": "48a7cd20",
   "metadata": {},
   "source": [
    "## Método all en Tuplas\n",
    "Este metodo valida si todos los valores de la tupla son mayores a 0"
   ]
  },
  {
   "cell_type": "code",
   "execution_count": 15,
   "id": "039d86d2",
   "metadata": {},
   "outputs": [
    {
     "name": "stdout",
     "output_type": "stream",
     "text": [
      "True\n"
     ]
    }
   ],
   "source": [
    "my_tuple=(5,4,1,7,9,2,1)\n",
    "print(all(my_tuple))"
   ]
  },
  {
   "cell_type": "code",
   "execution_count": 16,
   "id": "6f7ca2d7",
   "metadata": {},
   "outputs": [
    {
     "name": "stdout",
     "output_type": "stream",
     "text": [
      "False\n"
     ]
    }
   ],
   "source": [
    "my_tuple=(5,4,1,7,9,0,1)\n",
    "print(all(my_tuple))"
   ]
  },
  {
   "cell_type": "code",
   "execution_count": 17,
   "id": "1f450aba",
   "metadata": {},
   "outputs": [
    {
     "name": "stdout",
     "output_type": "stream",
     "text": [
      "False\n"
     ]
    }
   ],
   "source": [
    "my_tuple=(5,4,1,7,9,\"\",1)\n",
    "print(all(my_tuple))"
   ]
  },
  {
   "cell_type": "code",
   "execution_count": 18,
   "id": "acd2da2a",
   "metadata": {},
   "outputs": [
    {
     "name": "stdout",
     "output_type": "stream",
     "text": [
      "False\n"
     ]
    }
   ],
   "source": [
    "my_tuple=(5,4,1,7,9,None,1)\n",
    "print(all(my_tuple))"
   ]
  },
  {
   "cell_type": "code",
   "execution_count": 19,
   "id": "9e7ea0e2",
   "metadata": {},
   "outputs": [
    {
     "name": "stdout",
     "output_type": "stream",
     "text": [
      "False\n"
     ]
    }
   ],
   "source": [
    "my_tuple=(5,4,1,7,9,False,1)\n",
    "print(all(my_tuple))"
   ]
  },
  {
   "cell_type": "code",
   "execution_count": 22,
   "id": "ee8f24f5",
   "metadata": {},
   "outputs": [
    {
     "name": "stdout",
     "output_type": "stream",
     "text": [
      "True\n"
     ]
    }
   ],
   "source": [
    "my_tuple=(5,4,1,7,9,True,1)\n",
    "print(all(my_tuple))"
   ]
  },
  {
   "cell_type": "code",
   "execution_count": 20,
   "id": "3dece146",
   "metadata": {},
   "outputs": [
    {
     "name": "stdout",
     "output_type": "stream",
     "text": [
      "True\n"
     ]
    }
   ],
   "source": [
    "my_tuple=(5,4,1,7,9,\"Test\",1)\n",
    "print(all(my_tuple))"
   ]
  },
  {
   "cell_type": "code",
   "execution_count": 21,
   "id": "718a755b",
   "metadata": {},
   "outputs": [
    {
     "name": "stdout",
     "output_type": "stream",
     "text": [
      "True\n"
     ]
    }
   ],
   "source": [
    "my_tuple=(5,4,1,7,9,3.5,1)\n",
    "print(all(my_tuple))"
   ]
  },
  {
   "cell_type": "markdown",
   "id": "c5c82b54",
   "metadata": {},
   "source": [
    "## Método any en Tuplas\n"
   ]
  },
  {
   "cell_type": "code",
   "execution_count": 23,
   "id": "812d0f78",
   "metadata": {},
   "outputs": [
    {
     "name": "stdout",
     "output_type": "stream",
     "text": [
      "True\n"
     ]
    }
   ],
   "source": [
    "my_tuple=(5,4,1,7,9,2,1)\n",
    "print(any(my_tuple))"
   ]
  },
  {
   "cell_type": "code",
   "execution_count": 24,
   "id": "6c2bacd9",
   "metadata": {},
   "outputs": [
    {
     "name": "stdout",
     "output_type": "stream",
     "text": [
      "True\n"
     ]
    }
   ],
   "source": [
    "my_tuple=(5,4,1,7,9,0,1)\n",
    "print(any(my_tuple))"
   ]
  },
  {
   "cell_type": "code",
   "execution_count": 25,
   "id": "6b393a87",
   "metadata": {},
   "outputs": [
    {
     "name": "stdout",
     "output_type": "stream",
     "text": [
      "True\n"
     ]
    }
   ],
   "source": [
    "my_tuple=(0,0,0,0,0,0,1)\n",
    "print(any(my_tuple))"
   ]
  },
  {
   "cell_type": "code",
   "execution_count": 26,
   "id": "d5687220",
   "metadata": {},
   "outputs": [
    {
     "name": "stdout",
     "output_type": "stream",
     "text": [
      "False\n"
     ]
    }
   ],
   "source": [
    "my_tuple=(0,0,0,0,0,0,0)\n",
    "print(any(my_tuple))"
   ]
  },
  {
   "cell_type": "code",
   "execution_count": 27,
   "id": "61aa9d30",
   "metadata": {},
   "outputs": [
    {
     "name": "stdout",
     "output_type": "stream",
     "text": [
      "False\n"
     ]
    }
   ],
   "source": [
    "my_tuple=(\"\",\"\")\n",
    "print(any(my_tuple))"
   ]
  },
  {
   "cell_type": "code",
   "execution_count": 28,
   "id": "67dd9d8f",
   "metadata": {},
   "outputs": [
    {
     "name": "stdout",
     "output_type": "stream",
     "text": [
      "True\n"
     ]
    }
   ],
   "source": [
    "my_tuple=(\"\",\"t\")\n",
    "print(any(my_tuple))"
   ]
  },
  {
   "cell_type": "code",
   "execution_count": 29,
   "id": "438737d0",
   "metadata": {},
   "outputs": [
    {
     "name": "stdout",
     "output_type": "stream",
     "text": [
      "False\n"
     ]
    }
   ],
   "source": [
    "my_tuple=(None,None)\n",
    "print(any(my_tuple))"
   ]
  },
  {
   "cell_type": "code",
   "execution_count": 30,
   "id": "c2b37010",
   "metadata": {},
   "outputs": [
    {
     "name": "stdout",
     "output_type": "stream",
     "text": [
      "True\n"
     ]
    }
   ],
   "source": [
    "my_tuple=(None,None,1)\n",
    "print(any(my_tuple))"
   ]
  },
  {
   "cell_type": "code",
   "execution_count": 31,
   "id": "d165a126",
   "metadata": {},
   "outputs": [
    {
     "name": "stdout",
     "output_type": "stream",
     "text": [
      "False\n"
     ]
    }
   ],
   "source": [
    "my_tuple=(False,False,False)\n",
    "print(any(my_tuple))"
   ]
  },
  {
   "cell_type": "code",
   "execution_count": 1,
   "id": "9ce8ed16",
   "metadata": {},
   "outputs": [
    {
     "name": "stdout",
     "output_type": "stream",
     "text": [
      "True\n"
     ]
    }
   ],
   "source": [
    "my_tuple=(True,False,False)\n",
    "print(any(my_tuple))"
   ]
  },
  {
   "cell_type": "markdown",
   "id": "e5f39e87",
   "metadata": {},
   "source": [
    "## Método len en tuplas"
   ]
  },
  {
   "cell_type": "code",
   "execution_count": 3,
   "id": "d971c6cb",
   "metadata": {},
   "outputs": [
    {
     "name": "stdout",
     "output_type": "stream",
     "text": [
      "<class 'tuple'>\n",
      "(1, 2, 3, 4, 5, 6, 7)\n",
      "7\n"
     ]
    }
   ],
   "source": [
    "my_tuple=(1,2,3,4,5,6,7,)\n",
    "print(type(my_tuple))\n",
    "print(my_tuple)\n",
    "print(len(my_tuple))"
   ]
  },
  {
   "cell_type": "code",
   "execution_count": 5,
   "id": "afd4b73a",
   "metadata": {},
   "outputs": [
    {
     "name": "stdout",
     "output_type": "stream",
     "text": [
      "<class 'tuple'>\n",
      "(1, 2, 3, 4, 5, 6, 7)\n",
      "1\n",
      "7\n",
      "4\n",
      "4\n"
     ]
    }
   ],
   "source": [
    "my_tuple=(1,2,3,4,5,6,7)\n",
    "print(type(my_tuple))\n",
    "print(my_tuple)\n",
    "print(my_tuple[0])\n",
    "print(my_tuple[-1])\n",
    "print(my_tuple[3])\n",
    "print(my_tuple[-4])"
   ]
  },
  {
   "cell_type": "markdown",
   "id": "1a3e139d",
   "metadata": {},
   "source": [
    "# Conerción de tuplas"
   ]
  },
  {
   "cell_type": "markdown",
   "id": "f699d4a8",
   "metadata": {},
   "source": [
    "## De cadena a tupla"
   ]
  },
  {
   "cell_type": "code",
   "execution_count": 6,
   "id": "e1783a7b",
   "metadata": {},
   "outputs": [
    {
     "name": "stdout",
     "output_type": "stream",
     "text": [
      "Backend Python\n",
      "('B', 'a', 'c', 'k', 'e', 'n', 'd', ' ', 'P', 'y', 't', 'h', 'o', 'n')\n"
     ]
    }
   ],
   "source": [
    "my_string=\"Backend Python\"\n",
    "my_tuple=tuple(my_string)\n",
    "print(my_string)\n",
    "print(my_tuple)"
   ]
  },
  {
   "cell_type": "markdown",
   "id": "c0eb5f57",
   "metadata": {},
   "source": [
    "## De lista a tupla"
   ]
  },
  {
   "cell_type": "code",
   "execution_count": 7,
   "id": "43a5bc1c",
   "metadata": {},
   "outputs": [
    {
     "name": "stdout",
     "output_type": "stream",
     "text": [
      "['Python', 'javascript', 'java', 'go', 'scala']\n",
      "('Python', 'javascript', 'java', 'go', 'scala')\n"
     ]
    }
   ],
   "source": [
    "my_list=[\"Python\",\"javascript\",\"java\",\"go\",\"scala\"]\n",
    "my_tuple=tuple(my_list)\n",
    "\n",
    "print(my_list)\n",
    "print(my_tuple)"
   ]
  },
  {
   "cell_type": "markdown",
   "id": "ade13a9e",
   "metadata": {},
   "source": [
    "## De tupla a cadema"
   ]
  },
  {
   "cell_type": "code",
   "execution_count": 8,
   "id": "25a4269a",
   "metadata": {},
   "outputs": [
    {
     "name": "stdout",
     "output_type": "stream",
     "text": [
      "('B', 'a', 'c', 'k', 'e', 'n', 'd', ' ', 'P', 'y', 't', 'h', 'o', 'n')\n",
      "Backend Python\n"
     ]
    }
   ],
   "source": [
    "my_tuple=('B', 'a', 'c', 'k', 'e', 'n', 'd', ' ', 'P', 'y', 't', 'h', 'o', 'n')\n",
    "my_string=\"\".join(my_tuple)\n",
    "print(my_tuple)\n",
    "print(my_string)"
   ]
  },
  {
   "cell_type": "markdown",
   "id": "376f9e8d",
   "metadata": {},
   "source": [
    "## De tupla a lista"
   ]
  },
  {
   "cell_type": "code",
   "execution_count": 9,
   "id": "04186d5f",
   "metadata": {},
   "outputs": [
    {
     "name": "stdout",
     "output_type": "stream",
     "text": [
      "('Python', 'javascript', 'java', 'go', 'scala')\n",
      "['Python', 'javascript', 'java', 'go', 'scala']\n"
     ]
    }
   ],
   "source": [
    "my_tuple=('Python', 'javascript', 'java', 'go', 'scala')\n",
    "my_list=list(my_tuple)\n",
    "print(my_tuple)\n",
    "print(my_list)"
   ]
  },
  {
   "cell_type": "markdown",
   "id": "9f3c3788",
   "metadata": {},
   "source": [
    "## Ventajas  de la tupla sobre las listas"
   ]
  },
  {
   "cell_type": "markdown",
   "id": "0a9100a4",
   "metadata": {},
   "source": [
    "- Generalmente usamos tuplas para elementos heterogéneos (de diferente tipo de dato), y usamos listas para elementos  homogéneos (del mismo tipo de dato)\n",
    "- Las tuplas son inmutables, interar a traves de una tupla es más rápido que con una lista. Por lo tanto hay una pequeña mejora de rendimiento"
   ]
  }
 ],
 "metadata": {
  "kernelspec": {
   "display_name": "Python 3 (ipykernel)",
   "language": "python",
   "name": "python3"
  },
  "language_info": {
   "codemirror_mode": {
    "name": "ipython",
    "version": 3
   },
   "file_extension": ".py",
   "mimetype": "text/x-python",
   "name": "python",
   "nbconvert_exporter": "python",
   "pygments_lexer": "ipython3",
   "version": "3.11.5"
  }
 },
 "nbformat": 4,
 "nbformat_minor": 5
}
