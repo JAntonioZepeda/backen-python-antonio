{
 "cells": [
  {
   "cell_type": "code",
   "execution_count": 10,
   "id": "3b931ab9",
   "metadata": {},
   "outputs": [
    {
     "name": "stdout",
     "output_type": "stream",
     "text": [
      "Ingresa el nombre de un pokemon\n",
      "\n",
      "pikachu\n",
      "ID:  25\n",
      "Nombre:  pikachu\n",
      "Altura:  4\n",
      "Peso:  60\n",
      "Descripción:  Le gusta relajarse\n"
     ]
    }
   ],
   "source": [
    "import pokebase as pb\n",
    "import requests\n",
    "pokemon_to_search = input(\"Ingresa el nombre de un pokemon\\n\\n\")\n",
    "data = pb.pokemon(pokemon_to_search).__dict__\n",
    "id_ = data.get('id_')\n",
    "name = data.get('name')\n",
    "\n",
    "\n",
    "height = data.get('height')\n",
    "weight = data.get('weight')\n",
    "\n",
    "print(\"ID: \", id_)\n",
    "print(\"Nombre: \", name) \n",
    "print(\"Altura: \", height) \n",
    "print(\"Peso: \", weight)\n",
    "\n",
    "url = \"https://pokeapi.co/api/v2/characteristic/{id}/\".format(id=id_)\n",
    "response = requests.get(url)\n",
    "for description_dict in response.json().get(\"descriptions\"):\n",
    "    if description_dict.get(\"language\", {}).get(\"name\") == \"es\":\n",
    "        description = description_dict.get(\"description\")\n",
    "        print(\"Descripción: \",description)"
   ]
  },
  {
   "cell_type": "code",
   "execution_count": null,
   "id": "017cb71f",
   "metadata": {},
   "outputs": [],
   "source": []
  }
 ],
 "metadata": {
  "kernelspec": {
   "display_name": "Python 3 (ipykernel)",
   "language": "python",
   "name": "python3"
  },
  "language_info": {
   "codemirror_mode": {
    "name": "ipython",
    "version": 3
   },
   "file_extension": ".py",
   "mimetype": "text/x-python",
   "name": "python",
   "nbconvert_exporter": "python",
   "pygments_lexer": "ipython3",
   "version": "3.11.5"
  }
 },
 "nbformat": 4,
 "nbformat_minor": 5
}
