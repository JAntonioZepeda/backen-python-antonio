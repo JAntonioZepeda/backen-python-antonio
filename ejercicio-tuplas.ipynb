{
 "cells": [
  {
   "cell_type": "code",
   "execution_count": 1,
   "id": "ba6a614c",
   "metadata": {},
   "outputs": [
    {
     "name": "stdout",
     "output_type": "stream",
     "text": [
      "Lista de reproducción\n",
      "\n",
      "Ingresa el genero para recomendarte las mejores listas de reproduccion de tus artistas favoritos\n",
      "Ejemplo: 'electronica', y obtendrás un playlist de canciones o artistas que incluyan la palabra electronica\n",
      "Ingresa el género para recomendarte las mejores playlist:ROCK\n",
      "Estas son las listas de reproduccion mas populares del genero: ROCK\n",
      "<class 'tuple'>\n",
      "('Rock', 'BlackPathos')\n",
      "<class 'tuple'>\n",
      "('Rock', 'Olamide')\n",
      "<class 'tuple'>\n",
      "('ROCK', 'Stray Kids')\n",
      "<class 'tuple'>\n",
      "('ROCK (feat. Le Juiice)', 'Lithium')\n",
      "<class 'tuple'>\n",
      "('Rock', 'Plies')\n",
      "<class 'tuple'>\n",
      "('Rock', 'Rosalie Leonardi')\n",
      "<class 'tuple'>\n",
      "('ROCK', 'Stray Kids')\n",
      "<class 'tuple'>\n",
      "('Rock', 'SEVENTEEN')\n",
      "<class 'tuple'>\n",
      "('Roce', 'Mark B.')\n",
      "<class 'tuple'>\n",
      "('Rock My Body', 'R3HAB')\n",
      "<class 'tuple'>\n",
      "('Rocks', 'Jerome Sandero')\n",
      "<class 'tuple'>\n",
      "('I Am Rock', 'Rock')\n",
      "<class 'tuple'>\n",
      "('_________ Rock ___ (2/3)', \"C'typeencostume\")\n",
      "<class 'tuple'>\n",
      "('Divine excuse', 'Pleymo')\n",
      "<class 'tuple'>\n",
      "('Rock Your Body', 'Justin Timberlake')\n",
      "<class 'tuple'>\n",
      "('The Rock (From \"The Rock\")', 'The City of Prague Philharmonic Orchestra')\n",
      "<class 'tuple'>\n",
      "('Só Rock 2', 'Rock Danger')\n",
      "<class 'tuple'>\n",
      "('Rocky', 'Still Woozy')\n",
      "<class 'tuple'>\n",
      "('All Summer Long', 'Kid Rock')\n",
      "<class 'tuple'>\n",
      "('Black Block', 'neumodel')\n",
      "<class 'tuple'>\n",
      "('Rocks', 'Bones')\n",
      "<class 'tuple'>\n",
      "('rock hudson', 'Kelly Clarkson')\n",
      "<class 'tuple'>\n",
      "('Rock or Bust', 'AC/DC')\n",
      "<class 'tuple'>\n",
      "('ROCKY', 'ATEEZ')\n",
      "<class 'tuple'>\n",
      "('Rock It', 'Ofenbach')\n"
     ]
    }
   ],
   "source": [
    "import requests\n",
    "print(\"Lista de reproducción\\n\")\n",
    "# Referencia: https://www.deezer.com/en/channels/explore\n",
    "print(\"Ingresa el genero para recomendarte las mejores listas de reproduccion de tus artistas favoritos\")\n",
    "print(\"Ejemplo: 'electronica', y obtendrás un playlist de canciones o artistas que incluyan la palabra electronica\")\n",
    "word_to_search=input(\"Ingresa el género para recomendarte las mejores playlist:\")\n",
    "url = \"https://deezerdevs-deezer.p.rapidapi.com/search\"\n",
    "querystring = {\"q\":word_to_search}\n",
    "headers = {    \"X-RapidAPI-Key\": \"3ed98f551fmshe4e6260228c4eadp13db17jsn8c893e1194da\",    \"X-RapidAPI-Host\": \"deezerdevs-deezer.p.rapidapi.com\" }\n",
    "response = requests.request(\"GET\", url, headers=headers, params=querystring).json()\n",
    "print(\"Estas son las listas de reproduccion mas populares del genero:\", word_to_search)\n",
    "for element in response['data']:\n",
    "    my_list = [element['title'], element['artist']['name']]\n",
    "    my_tuple_list=tuple(my_list)\n",
    "    #print(my_list)\n",
    "   # print(type(my_list))\n",
    "    print(type(my_tuple_list))\n",
    "    print(my_tuple_list)\n",
    "    \n",
    "   \n"
   ]
  },
  {
   "cell_type": "code",
   "execution_count": null,
   "id": "45886895",
   "metadata": {},
   "outputs": [],
   "source": []
  }
 ],
 "metadata": {
  "kernelspec": {
   "display_name": "Python 3 (ipykernel)",
   "language": "python",
   "name": "python3"
  },
  "language_info": {
   "codemirror_mode": {
    "name": "ipython",
    "version": 3
   },
   "file_extension": ".py",
   "mimetype": "text/x-python",
   "name": "python",
   "nbconvert_exporter": "python",
   "pygments_lexer": "ipython3",
   "version": "3.11.5"
  }
 },
 "nbformat": 4,
 "nbformat_minor": 5
}
