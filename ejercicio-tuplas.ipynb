{
 "cells": [
  {
   "cell_type": "code",
   "execution_count": 1,
   "id": "ba6a614c",
   "metadata": {},
   "outputs": [
    {
     "name": "stdout",
     "output_type": "stream",
     "text": [
      "Lista de reproducción\n",
      "\n",
      "Ingresa el genero para recomendarte las mejores listas de reproduccion de tus artistas favoritos\n",
      "Ejemplo: 'electronica', y obtendrás un playlist de canciones o artistas que incluyan la palabra electronica\n",
      "Ingresa el género para recomendarte las mejores playlist:pop\n",
      "Estas son las listas de reproduccion mas populares del genero: pop\n",
      "<class 'tuple'>\n",
      "('POP!', 'NAYEON')\n",
      "<class 'tuple'>\n",
      "('POP (feat. Guy2Bezbar)', 'Josman')\n",
      "<class 'tuple'>\n",
      "('Pop', 'Negrito')\n",
      "<class 'tuple'>\n",
      "('POP (feat. Guy2Bezbar)', 'Josman')\n",
      "<class 'tuple'>\n",
      "('POP!', 'Adanna Duru')\n",
      "<class 'tuple'>\n",
      "('Pop', 'La Oreja de Van Gogh')\n",
      "<class 'tuple'>\n",
      "('POP', 'Güneş')\n",
      "<class 'tuple'>\n",
      "('PGP', 'Booba')\n",
      "<class 'tuple'>\n",
      "('POP (Peace Over Problems)', 'Not3s')\n",
      "<class 'tuple'>\n",
      "('Pop 2', 'GAS')\n",
      "<class 'tuple'>\n",
      "('Po !', 'Trepeton')\n",
      "<class 'tuple'>\n",
      "('Pop', '*NSYNC')\n",
      "<class 'tuple'>\n",
      "('P.O.P.', 'Ramirez')\n",
      "<class 'tuple'>\n",
      "('Staring At The Sun', 'U2')\n",
      "<class 'tuple'>\n",
      "('POP', 'Lil Uzi Vert')\n",
      "<class 'tuple'>\n",
      "('Pop', 'Sloy')\n",
      "<class 'tuple'>\n",
      "('Discotheque', 'U2')\n",
      "<class 'tuple'>\n",
      "('PGP', 'Gambino')\n",
      "<class 'tuple'>\n",
      "('Pop', 'Ari Lennox')\n",
      "<class 'tuple'>\n",
      "('Pop', 'OsamaSon')\n",
      "<class 'tuple'>\n",
      "('PGP', 'Ninho')\n",
      "<class 'tuple'>\n",
      "('Pop', 'Vicco')\n",
      "<class 'tuple'>\n",
      "('Please', 'U2')\n",
      "<class 'tuple'>\n",
      "('PCP', 'Didi B')\n",
      "<class 'tuple'>\n",
      "('POP', 'Puri')\n"
     ]
    }
   ],
   "source": [
    "import requests\n",
    "print(\"Lista de reproducción\\n\")\n",
    "# Referencia: https://www.deezer.com/en/channels/explore\n",
    "print(\"Ingresa el genero para recomendarte las mejores listas de reproduccion de tus artistas favoritos\")\n",
    "print(\"Ejemplo: 'electronica', y obtendrás un playlist de canciones o artistas que incluyan la palabra electronica\")\n",
    "word_to_search=input(\"Ingresa el género para recomendarte las mejores playlist:\")\n",
    "url = \"https://deezerdevs-deezer.p.rapidapi.com/search\"\n",
    "querystring = {\"q\":word_to_search}\n",
    "headers = {    \"X-RapidAPI-Key\": \"3ed98f551fmshe4e6260228c4eadp13db17jsn8c893e1194da\",    \"X-RapidAPI-Host\": \"deezerdevs-deezer.p.rapidapi.com\" }\n",
    "response = requests.request(\"GET\", url, headers=headers, params=querystring).json()\n",
    "print(\"Estas son las listas de reproduccion mas populares del genero:\", word_to_search)\n",
    "for element in response['data']:\n",
    "    my_list = [element['title'], element['artist']['name']]\n",
    "    my_tuple_list=tuple(my_list)\n",
    "    #print(my_list)\n",
    "   # print(type(my_list))\n",
    "    print(type(my_tuple_list))\n",
    "    print(my_tuple_list)\n",
    "    \n",
    "   \n"
   ]
  },
  {
   "cell_type": "code",
   "execution_count": null,
   "id": "45886895",
   "metadata": {},
   "outputs": [],
   "source": []
  }
 ],
 "metadata": {
  "kernelspec": {
   "display_name": "Python 3 (ipykernel)",
   "language": "python",
   "name": "python3"
  },
  "language_info": {
   "codemirror_mode": {
    "name": "ipython",
    "version": 3
   },
   "file_extension": ".py",
   "mimetype": "text/x-python",
   "name": "python",
   "nbconvert_exporter": "python",
   "pygments_lexer": "ipython3",
   "version": "3.11.5"
  }
 },
 "nbformat": 4,
 "nbformat_minor": 5
}
